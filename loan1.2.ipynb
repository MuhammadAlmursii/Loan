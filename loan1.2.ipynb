{
 "cells": [
  {
   "cell_type": "code",
   "execution_count": 2,
   "id": "4727c6f5",
   "metadata": {
    "scrolled": true
   },
   "outputs": [],
   "source": [
    "#Import Preprocessing Libraries  \n",
    "import pandas as pd\n",
    "import numpy as np\n",
    "import matplotlib.pyplot as plt \n",
    "import seaborn as sns\n",
    "%matplotlib inline\n",
    "\n",
    "# import Sickit-learn \n",
    "from sklearn.preprocessing import MinMaxScaler\n",
    "from sklearn.preprocessing import LabelEncoder\n",
    "from sklearn.model_selection import train_test_split\n",
    "from sklearn.metrics import confusion_matrix\n",
    "from sklearn.metrics import classification_report\n",
    "from sklearn.metrics import accuracy_score\n",
    "\n",
    "# Models from sklearn \n",
    "from sklearn.linear_model import LogisticRegression\n",
    "from sklearn.svm import SVC"
   ]
  },
  {
   "cell_type": "markdown",
   "id": "f7b59f52",
   "metadata": {},
   "source": [
    "# 1) Data Preprocessing & EDA "
   ]
  },
  {
   "cell_type": "markdown",
   "id": "75e9f97e",
   "metadata": {},
   "source": [
    "# > Initial data preparation\n",
    "\n",
    "## 1.1) Data Loading"
   ]
  },
  {
   "cell_type": "code",
   "execution_count": 3,
   "id": "c4c3dd74",
   "metadata": {
    "scrolled": true
   },
   "outputs": [],
   "source": [
    "loan = pd.read_csv('train_u6lujuX_CVtuZ9i.csv')"
   ]
  },
  {
   "cell_type": "code",
   "execution_count": 4,
   "id": "ed3f3197",
   "metadata": {
    "scrolled": false
   },
   "outputs": [
    {
     "data": {
      "text/html": [
       "<div>\n",
       "<style scoped>\n",
       "    .dataframe tbody tr th:only-of-type {\n",
       "        vertical-align: middle;\n",
       "    }\n",
       "\n",
       "    .dataframe tbody tr th {\n",
       "        vertical-align: top;\n",
       "    }\n",
       "\n",
       "    .dataframe thead th {\n",
       "        text-align: right;\n",
       "    }\n",
       "</style>\n",
       "<table border=\"1\" class=\"dataframe\">\n",
       "  <thead>\n",
       "    <tr style=\"text-align: right;\">\n",
       "      <th></th>\n",
       "      <th>0</th>\n",
       "      <th>1</th>\n",
       "      <th>2</th>\n",
       "      <th>3</th>\n",
       "      <th>4</th>\n",
       "    </tr>\n",
       "  </thead>\n",
       "  <tbody>\n",
       "    <tr>\n",
       "      <th>Loan_ID</th>\n",
       "      <td>LP001002</td>\n",
       "      <td>LP001003</td>\n",
       "      <td>LP001005</td>\n",
       "      <td>LP001006</td>\n",
       "      <td>LP001008</td>\n",
       "    </tr>\n",
       "    <tr>\n",
       "      <th>Gender</th>\n",
       "      <td>Male</td>\n",
       "      <td>Male</td>\n",
       "      <td>Male</td>\n",
       "      <td>Male</td>\n",
       "      <td>Male</td>\n",
       "    </tr>\n",
       "    <tr>\n",
       "      <th>Married</th>\n",
       "      <td>No</td>\n",
       "      <td>Yes</td>\n",
       "      <td>Yes</td>\n",
       "      <td>Yes</td>\n",
       "      <td>No</td>\n",
       "    </tr>\n",
       "    <tr>\n",
       "      <th>Dependents</th>\n",
       "      <td>0</td>\n",
       "      <td>1</td>\n",
       "      <td>0</td>\n",
       "      <td>0</td>\n",
       "      <td>0</td>\n",
       "    </tr>\n",
       "    <tr>\n",
       "      <th>Education</th>\n",
       "      <td>Graduate</td>\n",
       "      <td>Graduate</td>\n",
       "      <td>Graduate</td>\n",
       "      <td>Not Graduate</td>\n",
       "      <td>Graduate</td>\n",
       "    </tr>\n",
       "    <tr>\n",
       "      <th>Self_Employed</th>\n",
       "      <td>No</td>\n",
       "      <td>No</td>\n",
       "      <td>Yes</td>\n",
       "      <td>No</td>\n",
       "      <td>No</td>\n",
       "    </tr>\n",
       "    <tr>\n",
       "      <th>ApplicantIncome</th>\n",
       "      <td>5849</td>\n",
       "      <td>4583</td>\n",
       "      <td>3000</td>\n",
       "      <td>2583</td>\n",
       "      <td>6000</td>\n",
       "    </tr>\n",
       "    <tr>\n",
       "      <th>CoapplicantIncome</th>\n",
       "      <td>0.0</td>\n",
       "      <td>1508.0</td>\n",
       "      <td>0.0</td>\n",
       "      <td>2358.0</td>\n",
       "      <td>0.0</td>\n",
       "    </tr>\n",
       "    <tr>\n",
       "      <th>LoanAmount</th>\n",
       "      <td>NaN</td>\n",
       "      <td>128.0</td>\n",
       "      <td>66.0</td>\n",
       "      <td>120.0</td>\n",
       "      <td>141.0</td>\n",
       "    </tr>\n",
       "    <tr>\n",
       "      <th>Loan_Amount_Term</th>\n",
       "      <td>360.0</td>\n",
       "      <td>360.0</td>\n",
       "      <td>360.0</td>\n",
       "      <td>360.0</td>\n",
       "      <td>360.0</td>\n",
       "    </tr>\n",
       "    <tr>\n",
       "      <th>Credit_History</th>\n",
       "      <td>1.0</td>\n",
       "      <td>1.0</td>\n",
       "      <td>1.0</td>\n",
       "      <td>1.0</td>\n",
       "      <td>1.0</td>\n",
       "    </tr>\n",
       "    <tr>\n",
       "      <th>Property_Area</th>\n",
       "      <td>Urban</td>\n",
       "      <td>Rural</td>\n",
       "      <td>Urban</td>\n",
       "      <td>Urban</td>\n",
       "      <td>Urban</td>\n",
       "    </tr>\n",
       "    <tr>\n",
       "      <th>Loan_Status</th>\n",
       "      <td>Y</td>\n",
       "      <td>N</td>\n",
       "      <td>Y</td>\n",
       "      <td>Y</td>\n",
       "      <td>Y</td>\n",
       "    </tr>\n",
       "  </tbody>\n",
       "</table>\n",
       "</div>"
      ],
      "text/plain": [
       "                          0         1         2             3         4\n",
       "Loan_ID            LP001002  LP001003  LP001005      LP001006  LP001008\n",
       "Gender                 Male      Male      Male          Male      Male\n",
       "Married                  No       Yes       Yes           Yes        No\n",
       "Dependents                0         1         0             0         0\n",
       "Education          Graduate  Graduate  Graduate  Not Graduate  Graduate\n",
       "Self_Employed            No        No       Yes            No        No\n",
       "ApplicantIncome        5849      4583      3000          2583      6000\n",
       "CoapplicantIncome       0.0    1508.0       0.0        2358.0       0.0\n",
       "LoanAmount              NaN     128.0      66.0         120.0     141.0\n",
       "Loan_Amount_Term      360.0     360.0     360.0         360.0     360.0\n",
       "Credit_History          1.0       1.0       1.0           1.0       1.0\n",
       "Property_Area         Urban     Rural     Urban         Urban     Urban\n",
       "Loan_Status               Y         N         Y             Y         Y"
      ]
     },
     "execution_count": 4,
     "metadata": {},
     "output_type": "execute_result"
    }
   ],
   "source": [
    "loans = loan.copy()\n",
    "loans.head().T"
   ]
  },
  {
   "cell_type": "code",
   "execution_count": 5,
   "id": "d3b58225",
   "metadata": {
    "scrolled": true
   },
   "outputs": [
    {
     "data": {
      "text/plain": [
       "(614, 13)"
      ]
     },
     "execution_count": 5,
     "metadata": {},
     "output_type": "execute_result"
    }
   ],
   "source": [
    "# shape of data\n",
    "loans.shape"
   ]
  },
  {
   "cell_type": "code",
   "execution_count": 6,
   "id": "06db549c",
   "metadata": {
    "scrolled": false
   },
   "outputs": [
    {
     "data": {
      "text/plain": [
       "Loan_ID               object\n",
       "Gender                object\n",
       "Married               object\n",
       "Dependents            object\n",
       "Education             object\n",
       "Self_Employed         object\n",
       "ApplicantIncome        int64\n",
       "CoapplicantIncome    float64\n",
       "LoanAmount           float64\n",
       "Loan_Amount_Term     float64\n",
       "Credit_History       float64\n",
       "Property_Area         object\n",
       "Loan_Status           object\n",
       "dtype: object"
      ]
     },
     "execution_count": 6,
     "metadata": {},
     "output_type": "execute_result"
    }
   ],
   "source": [
    "# columns type of Dataset\n",
    "loans.dtypes"
   ]
  },
  {
   "cell_type": "markdown",
   "id": "9ff13299",
   "metadata": {},
   "source": [
    "# 1.2)  Data Cleansing "
   ]
  },
  {
   "cell_type": "markdown",
   "id": "7578ead0",
   "metadata": {},
   "source": [
    "- ### Uniform columns name and  values "
   ]
  },
  {
   "cell_type": "code",
   "execution_count": 7,
   "id": "8b796e0e",
   "metadata": {
    "scrolled": true
   },
   "outputs": [
    {
     "data": {
      "text/plain": [
       "Index(['loan_id', 'gender', 'married', 'dependents', 'education',\n",
       "       'self_employed', 'applicantincome', 'coapplicantincome', 'loanamount',\n",
       "       'loan_amount_term', 'credit_history', 'property_area', 'loan_status'],\n",
       "      dtype='object')"
      ]
     },
     "execution_count": 7,
     "metadata": {},
     "output_type": "execute_result"
    }
   ],
   "source": [
    "# Uniform name of columns \n",
    "loans.columns = loans.columns.str.lower().str.replace(\" \",\"_\")\n",
    "loans.columns"
   ]
  },
  {
   "cell_type": "code",
   "execution_count": 8,
   "id": "48de0113",
   "metadata": {
    "scrolled": true
   },
   "outputs": [],
   "source": [
    "# String Columns  \n",
    "string_columns = list(loans.dtypes[loans.dtypes == 'object'].index)\n",
    "\n",
    "# drop Loan_ID from String columns\n",
    "string_columns = [\n",
    " 'gender',\n",
    " 'married',\n",
    " 'dependents',\n",
    " 'education',\n",
    " 'self_employed',\n",
    " 'property_area',\n",
    " 'loan_status']"
   ]
  },
  {
   "cell_type": "code",
   "execution_count": 9,
   "id": "f80db910",
   "metadata": {
    "scrolled": true
   },
   "outputs": [
    {
     "data": {
      "text/html": [
       "<div>\n",
       "<style scoped>\n",
       "    .dataframe tbody tr th:only-of-type {\n",
       "        vertical-align: middle;\n",
       "    }\n",
       "\n",
       "    .dataframe tbody tr th {\n",
       "        vertical-align: top;\n",
       "    }\n",
       "\n",
       "    .dataframe thead th {\n",
       "        text-align: right;\n",
       "    }\n",
       "</style>\n",
       "<table border=\"1\" class=\"dataframe\">\n",
       "  <thead>\n",
       "    <tr style=\"text-align: right;\">\n",
       "      <th></th>\n",
       "      <th>loan_id</th>\n",
       "      <th>gender</th>\n",
       "      <th>married</th>\n",
       "      <th>dependents</th>\n",
       "      <th>education</th>\n",
       "      <th>self_employed</th>\n",
       "      <th>applicantincome</th>\n",
       "      <th>coapplicantincome</th>\n",
       "      <th>loanamount</th>\n",
       "      <th>loan_amount_term</th>\n",
       "      <th>credit_history</th>\n",
       "      <th>property_area</th>\n",
       "      <th>loan_status</th>\n",
       "    </tr>\n",
       "  </thead>\n",
       "  <tbody>\n",
       "    <tr>\n",
       "      <th>0</th>\n",
       "      <td>LP001002</td>\n",
       "      <td>male</td>\n",
       "      <td>no</td>\n",
       "      <td>0</td>\n",
       "      <td>graduate</td>\n",
       "      <td>no</td>\n",
       "      <td>5849</td>\n",
       "      <td>0.0</td>\n",
       "      <td>NaN</td>\n",
       "      <td>360.0</td>\n",
       "      <td>1.0</td>\n",
       "      <td>urban</td>\n",
       "      <td>y</td>\n",
       "    </tr>\n",
       "    <tr>\n",
       "      <th>1</th>\n",
       "      <td>LP001003</td>\n",
       "      <td>male</td>\n",
       "      <td>yes</td>\n",
       "      <td>1</td>\n",
       "      <td>graduate</td>\n",
       "      <td>no</td>\n",
       "      <td>4583</td>\n",
       "      <td>1508.0</td>\n",
       "      <td>128.0</td>\n",
       "      <td>360.0</td>\n",
       "      <td>1.0</td>\n",
       "      <td>rural</td>\n",
       "      <td>n</td>\n",
       "    </tr>\n",
       "    <tr>\n",
       "      <th>2</th>\n",
       "      <td>LP001005</td>\n",
       "      <td>male</td>\n",
       "      <td>yes</td>\n",
       "      <td>0</td>\n",
       "      <td>graduate</td>\n",
       "      <td>yes</td>\n",
       "      <td>3000</td>\n",
       "      <td>0.0</td>\n",
       "      <td>66.0</td>\n",
       "      <td>360.0</td>\n",
       "      <td>1.0</td>\n",
       "      <td>urban</td>\n",
       "      <td>y</td>\n",
       "    </tr>\n",
       "    <tr>\n",
       "      <th>3</th>\n",
       "      <td>LP001006</td>\n",
       "      <td>male</td>\n",
       "      <td>yes</td>\n",
       "      <td>0</td>\n",
       "      <td>not_graduate</td>\n",
       "      <td>no</td>\n",
       "      <td>2583</td>\n",
       "      <td>2358.0</td>\n",
       "      <td>120.0</td>\n",
       "      <td>360.0</td>\n",
       "      <td>1.0</td>\n",
       "      <td>urban</td>\n",
       "      <td>y</td>\n",
       "    </tr>\n",
       "    <tr>\n",
       "      <th>4</th>\n",
       "      <td>LP001008</td>\n",
       "      <td>male</td>\n",
       "      <td>no</td>\n",
       "      <td>0</td>\n",
       "      <td>graduate</td>\n",
       "      <td>no</td>\n",
       "      <td>6000</td>\n",
       "      <td>0.0</td>\n",
       "      <td>141.0</td>\n",
       "      <td>360.0</td>\n",
       "      <td>1.0</td>\n",
       "      <td>urban</td>\n",
       "      <td>y</td>\n",
       "    </tr>\n",
       "  </tbody>\n",
       "</table>\n",
       "</div>"
      ],
      "text/plain": [
       "    loan_id gender married dependents     education self_employed  \\\n",
       "0  LP001002   male      no          0      graduate            no   \n",
       "1  LP001003   male     yes          1      graduate            no   \n",
       "2  LP001005   male     yes          0      graduate           yes   \n",
       "3  LP001006   male     yes          0  not_graduate            no   \n",
       "4  LP001008   male      no          0      graduate            no   \n",
       "\n",
       "   applicantincome  coapplicantincome  loanamount  loan_amount_term  \\\n",
       "0             5849                0.0         NaN             360.0   \n",
       "1             4583             1508.0       128.0             360.0   \n",
       "2             3000                0.0        66.0             360.0   \n",
       "3             2583             2358.0       120.0             360.0   \n",
       "4             6000                0.0       141.0             360.0   \n",
       "\n",
       "   credit_history property_area loan_status  \n",
       "0             1.0         urban           y  \n",
       "1             1.0         rural           n  \n",
       "2             1.0         urban           y  \n",
       "3             1.0         urban           y  \n",
       "4             1.0         urban           y  "
      ]
     },
     "metadata": {},
     "output_type": "display_data"
    }
   ],
   "source": [
    "# Uniform Values of Dataset \n",
    "for col in string_columns:\n",
    "    loans[col] = loans[col].str.lower().str.replace(\" \",\"_\")\n",
    "display(loans.head())"
   ]
  },
  {
   "cell_type": "code",
   "execution_count": 10,
   "id": "4edbbbb8",
   "metadata": {
    "scrolled": false
   },
   "outputs": [
    {
     "name": "stdout",
     "output_type": "stream",
     "text": [
      "Name of column: gender\n",
      "unique values : 2\n",
      "['male' 'female' nan]\n",
      "\n",
      "Name of column: married\n",
      "unique values : 2\n",
      "['no' 'yes' nan]\n",
      "\n",
      "Name of column: dependents\n",
      "unique values : 4\n",
      "['0' '1' '2' '3+' nan]\n",
      "\n",
      "Name of column: education\n",
      "unique values : 2\n",
      "['graduate' 'not_graduate']\n",
      "\n",
      "Name of column: self_employed\n",
      "unique values : 2\n",
      "['no' 'yes' nan]\n",
      "\n",
      "Name of column: property_area\n",
      "unique values : 3\n",
      "['urban' 'rural' 'semiurban']\n",
      "\n",
      "Name of column: loan_status\n",
      "unique values : 2\n",
      "['y' 'n']\n",
      "\n"
     ]
    }
   ],
   "source": [
    "# check unique values to spot abnormal values\n",
    "\n",
    "for i in string_columns:\n",
    "    print(f'Name of column: {i}')\n",
    "    print(f'unique values : {loans[i].nunique()}')\n",
    "    print(f'{loans[i].unique()}\\n')"
   ]
  },
  {
   "cell_type": "markdown",
   "id": "d287dddc",
   "metadata": {},
   "source": [
    "# 1.2.2) Dealing with outliers"
   ]
  },
  {
   "cell_type": "code",
   "execution_count": 11,
   "id": "0bcf032b",
   "metadata": {
    "scrolled": true
   },
   "outputs": [],
   "source": [
    "# Replacing abnormal value of dependents column\n",
    "loans.dependents = loans.dependents.replace('3+',4)"
   ]
  },
  {
   "cell_type": "markdown",
   "id": "592b3604",
   "metadata": {},
   "source": [
    "# 1.2.3) Data Casting "
   ]
  },
  {
   "cell_type": "code",
   "execution_count": 12,
   "id": "132b6a49",
   "metadata": {
    "scrolled": true
   },
   "outputs": [],
   "source": [
    "# columns casting from object to numeric  \n",
    "loans.dependents = pd.to_numeric(loans.dependents)\n",
    "loans.loan_status = ((loans.loan_status == 'y').astype(int))\n"
   ]
  },
  {
   "cell_type": "code",
   "execution_count": 13,
   "id": "6a29777a",
   "metadata": {},
   "outputs": [
    {
     "data": {
      "text/plain": [
       "loan_status\n",
       "1    422\n",
       "0    192\n",
       "Name: count, dtype: int64"
      ]
     },
     "execution_count": 13,
     "metadata": {},
     "output_type": "execute_result"
    }
   ],
   "source": [
    "loans.loan_status.value_counts()"
   ]
  },
  {
   "cell_type": "code",
   "execution_count": 14,
   "id": "c43c3684",
   "metadata": {
    "scrolled": true
   },
   "outputs": [
    {
     "data": {
      "text/plain": [
       "loan_id               object\n",
       "gender                object\n",
       "married               object\n",
       "dependents           float64\n",
       "education             object\n",
       "self_employed         object\n",
       "applicantincome        int64\n",
       "coapplicantincome    float64\n",
       "loanamount           float64\n",
       "loan_amount_term     float64\n",
       "credit_history       float64\n",
       "property_area         object\n",
       "loan_status            int32\n",
       "dtype: object"
      ]
     },
     "execution_count": 14,
     "metadata": {},
     "output_type": "execute_result"
    }
   ],
   "source": [
    "# data types\n",
    "loans.dtypes"
   ]
  },
  {
   "cell_type": "markdown",
   "id": "19a55c18",
   "metadata": {},
   "source": [
    "# 1.2.4) Dealing with missing values"
   ]
  },
  {
   "cell_type": "code",
   "execution_count": 15,
   "id": "a19a12f5",
   "metadata": {
    "scrolled": true
   },
   "outputs": [
    {
     "name": "stdout",
     "output_type": "stream",
     "text": [
      "loan_id               0\n",
      "gender               13\n",
      "married               3\n",
      "dependents           15\n",
      "education             0\n",
      "self_employed        32\n",
      "applicantincome       0\n",
      "coapplicantincome     0\n",
      "loanamount           22\n",
      "loan_amount_term     14\n",
      "credit_history       50\n",
      "property_area         0\n",
      "loan_status           0\n",
      "dtype: int64\n"
     ]
    }
   ],
   "source": [
    "# check the missing values per each columns \n",
    "print(loans.isnull().sum())\n"
   ]
  },
  {
   "cell_type": "code",
   "execution_count": 16,
   "id": "12c56560",
   "metadata": {
    "scrolled": false
   },
   "outputs": [],
   "source": [
    "# Define Categorical and numerical columns that contains missing values\n",
    "categorical = ['gender', 'married','dependents','education',\n",
    "       'self_employed','credit_history', 'property_area','loan_status']\n",
    "\n",
    "numerical = ['applicantincome', 'coapplicantincome', 'loanamount','loan_amount_term']\n",
    "\n",
    "# Filing missing values for categorical data\n",
    "for col in categorical:\n",
    "    loans[col].fillna(loans[col].mode().iloc[0], inplace =True)\n",
    "    \n",
    "# Filing missing values for numerical data\n",
    "for col in numerical:\n",
    "    loans[col].fillna(loans[col].mean(), inplace=True)"
   ]
  },
  {
   "cell_type": "code",
   "execution_count": 17,
   "id": "14656d94",
   "metadata": {
    "scrolled": false
   },
   "outputs": [
    {
     "data": {
      "text/plain": [
       "loan_id              0\n",
       "gender               0\n",
       "married              0\n",
       "dependents           0\n",
       "education            0\n",
       "self_employed        0\n",
       "applicantincome      0\n",
       "coapplicantincome    0\n",
       "loanamount           0\n",
       "loan_amount_term     0\n",
       "credit_history       0\n",
       "property_area        0\n",
       "loan_status          0\n",
       "dtype: int64"
      ]
     },
     "execution_count": 17,
     "metadata": {},
     "output_type": "execute_result"
    }
   ],
   "source": [
    "# No missing values now \n",
    "loans.isnull().sum()"
   ]
  },
  {
   "cell_type": "markdown",
   "id": "9d319a4d",
   "metadata": {},
   "source": [
    "# Explotary Data Analysis"
   ]
  },
  {
   "cell_type": "code",
   "execution_count": 18,
   "id": "85c79a20",
   "metadata": {
    "scrolled": true
   },
   "outputs": [
    {
     "data": {
      "text/plain": [
       "loan_status\n",
       "1    0.687296\n",
       "0    0.312704\n",
       "Name: proportion, dtype: float64"
      ]
     },
     "execution_count": 18,
     "metadata": {},
     "output_type": "execute_result"
    }
   ],
   "source": [
    "loans.loan_status.value_counts(normalize=True)"
   ]
  },
  {
   "cell_type": "markdown",
   "id": "c9a47f2d",
   "metadata": {},
   "source": [
    "# 2) Feature Importance "
   ]
  },
  {
   "cell_type": "code",
   "execution_count": 19,
   "id": "964a1fd7",
   "metadata": {
    "scrolled": false
   },
   "outputs": [
    {
     "name": "stdout",
     "output_type": "stream",
     "text": [
      "gender == female: 0.67\n",
      "gender == female: 0.691\n"
     ]
    }
   ],
   "source": [
    "female_yes = loans[loans.gender == 'female'].loan_status.mean()\n",
    "print('gender == female:', round(female_yes, 3))\n",
    "\n",
    "male_yes = loans[loans.gender == 'male'].loan_status.mean()\n",
    "print('gender == female:', round(male_yes, 3))"
   ]
  },
  {
   "cell_type": "markdown",
   "id": "7ed9f833",
   "metadata": {},
   "source": [
    "### Risk ratio"
   ]
  },
  {
   "cell_type": "code",
   "execution_count": 20,
   "id": "512c391e",
   "metadata": {
    "scrolled": true
   },
   "outputs": [],
   "source": [
    "global_mean = loans.loan_status.mean()"
   ]
  },
  {
   "cell_type": "code",
   "execution_count": 21,
   "id": "b0c36be7",
   "metadata": {
    "scrolled": false
   },
   "outputs": [
    {
     "data": {
      "text/plain": [
       "gender            2\n",
       "married           2\n",
       "dependents        4\n",
       "education         2\n",
       "self_employed     2\n",
       "credit_history    2\n",
       "property_area     3\n",
       "loan_status       2\n",
       "dtype: int64"
      ]
     },
     "execution_count": 21,
     "metadata": {},
     "output_type": "execute_result"
    }
   ],
   "source": [
    "# preparing categorical and numberical data for analysis\n",
    "categorical_cols = ['credit_history', 'property_area', 'married', 'education', 'dependents',\n",
    "       'gender', 'self_employed']\n",
    "numerical_cols = ['applicantincome', 'coapplicantincome', 'loanamount','loan_amount_term']\n",
    "# number of unique values per categorical datasset\n",
    "loans[categorical].nunique()"
   ]
  },
  {
   "cell_type": "markdown",
   "id": "0234026c",
   "metadata": {},
   "source": [
    "# 2.1) Feature importance: Status rate and risk ratio "
   ]
  },
  {
   "cell_type": "code",
   "execution_count": 22,
   "id": "ff2899ad",
   "metadata": {
    "scrolled": true
   },
   "outputs": [],
   "source": [
    "# import IPthon library to display \n",
    "from IPython.display import display"
   ]
  },
  {
   "cell_type": "code",
   "execution_count": 23,
   "id": "18717106",
   "metadata": {
    "scrolled": false
   },
   "outputs": [
    {
     "data": {
      "text/html": [
       "<div>\n",
       "<style scoped>\n",
       "    .dataframe tbody tr th:only-of-type {\n",
       "        vertical-align: middle;\n",
       "    }\n",
       "\n",
       "    .dataframe tbody tr th {\n",
       "        vertical-align: top;\n",
       "    }\n",
       "\n",
       "    .dataframe thead th {\n",
       "        text-align: right;\n",
       "    }\n",
       "</style>\n",
       "<table border=\"1\" class=\"dataframe\">\n",
       "  <thead>\n",
       "    <tr style=\"text-align: right;\">\n",
       "      <th></th>\n",
       "      <th>mean</th>\n",
       "      <th>count</th>\n",
       "      <th>diff</th>\n",
       "      <th>risk</th>\n",
       "    </tr>\n",
       "    <tr>\n",
       "      <th>credit_history</th>\n",
       "      <th></th>\n",
       "      <th></th>\n",
       "      <th></th>\n",
       "      <th></th>\n",
       "    </tr>\n",
       "  </thead>\n",
       "  <tbody>\n",
       "    <tr>\n",
       "      <th>0.0</th>\n",
       "      <td>0.078652</td>\n",
       "      <td>89</td>\n",
       "      <td>-0.608645</td>\n",
       "      <td>0.114436</td>\n",
       "    </tr>\n",
       "    <tr>\n",
       "      <th>1.0</th>\n",
       "      <td>0.790476</td>\n",
       "      <td>525</td>\n",
       "      <td>0.103180</td>\n",
       "      <td>1.150124</td>\n",
       "    </tr>\n",
       "  </tbody>\n",
       "</table>\n",
       "</div>"
      ],
      "text/plain": [
       "                    mean  count      diff      risk\n",
       "credit_history                                     \n",
       "0.0             0.078652     89 -0.608645  0.114436\n",
       "1.0             0.790476    525  0.103180  1.150124"
      ]
     },
     "metadata": {},
     "output_type": "display_data"
    },
    {
     "data": {
      "text/html": [
       "<div>\n",
       "<style scoped>\n",
       "    .dataframe tbody tr th:only-of-type {\n",
       "        vertical-align: middle;\n",
       "    }\n",
       "\n",
       "    .dataframe tbody tr th {\n",
       "        vertical-align: top;\n",
       "    }\n",
       "\n",
       "    .dataframe thead th {\n",
       "        text-align: right;\n",
       "    }\n",
       "</style>\n",
       "<table border=\"1\" class=\"dataframe\">\n",
       "  <thead>\n",
       "    <tr style=\"text-align: right;\">\n",
       "      <th></th>\n",
       "      <th>mean</th>\n",
       "      <th>count</th>\n",
       "      <th>diff</th>\n",
       "      <th>risk</th>\n",
       "    </tr>\n",
       "    <tr>\n",
       "      <th>property_area</th>\n",
       "      <th></th>\n",
       "      <th></th>\n",
       "      <th></th>\n",
       "      <th></th>\n",
       "    </tr>\n",
       "  </thead>\n",
       "  <tbody>\n",
       "    <tr>\n",
       "      <th>rural</th>\n",
       "      <td>0.614525</td>\n",
       "      <td>179</td>\n",
       "      <td>-0.072771</td>\n",
       "      <td>0.894120</td>\n",
       "    </tr>\n",
       "    <tr>\n",
       "      <th>semiurban</th>\n",
       "      <td>0.768240</td>\n",
       "      <td>233</td>\n",
       "      <td>0.080944</td>\n",
       "      <td>1.117771</td>\n",
       "    </tr>\n",
       "    <tr>\n",
       "      <th>urban</th>\n",
       "      <td>0.658416</td>\n",
       "      <td>202</td>\n",
       "      <td>-0.028881</td>\n",
       "      <td>0.957979</td>\n",
       "    </tr>\n",
       "  </tbody>\n",
       "</table>\n",
       "</div>"
      ],
      "text/plain": [
       "                   mean  count      diff      risk\n",
       "property_area                                     \n",
       "rural          0.614525    179 -0.072771  0.894120\n",
       "semiurban      0.768240    233  0.080944  1.117771\n",
       "urban          0.658416    202 -0.028881  0.957979"
      ]
     },
     "metadata": {},
     "output_type": "display_data"
    },
    {
     "data": {
      "text/html": [
       "<div>\n",
       "<style scoped>\n",
       "    .dataframe tbody tr th:only-of-type {\n",
       "        vertical-align: middle;\n",
       "    }\n",
       "\n",
       "    .dataframe tbody tr th {\n",
       "        vertical-align: top;\n",
       "    }\n",
       "\n",
       "    .dataframe thead th {\n",
       "        text-align: right;\n",
       "    }\n",
       "</style>\n",
       "<table border=\"1\" class=\"dataframe\">\n",
       "  <thead>\n",
       "    <tr style=\"text-align: right;\">\n",
       "      <th></th>\n",
       "      <th>mean</th>\n",
       "      <th>count</th>\n",
       "      <th>diff</th>\n",
       "      <th>risk</th>\n",
       "    </tr>\n",
       "    <tr>\n",
       "      <th>married</th>\n",
       "      <th></th>\n",
       "      <th></th>\n",
       "      <th></th>\n",
       "      <th></th>\n",
       "    </tr>\n",
       "  </thead>\n",
       "  <tbody>\n",
       "    <tr>\n",
       "      <th>no</th>\n",
       "      <td>0.629108</td>\n",
       "      <td>213</td>\n",
       "      <td>-0.058188</td>\n",
       "      <td>0.915337</td>\n",
       "    </tr>\n",
       "    <tr>\n",
       "      <th>yes</th>\n",
       "      <td>0.718204</td>\n",
       "      <td>401</td>\n",
       "      <td>0.030908</td>\n",
       "      <td>1.044971</td>\n",
       "    </tr>\n",
       "  </tbody>\n",
       "</table>\n",
       "</div>"
      ],
      "text/plain": [
       "             mean  count      diff      risk\n",
       "married                                     \n",
       "no       0.629108    213 -0.058188  0.915337\n",
       "yes      0.718204    401  0.030908  1.044971"
      ]
     },
     "metadata": {},
     "output_type": "display_data"
    },
    {
     "data": {
      "text/html": [
       "<div>\n",
       "<style scoped>\n",
       "    .dataframe tbody tr th:only-of-type {\n",
       "        vertical-align: middle;\n",
       "    }\n",
       "\n",
       "    .dataframe tbody tr th {\n",
       "        vertical-align: top;\n",
       "    }\n",
       "\n",
       "    .dataframe thead th {\n",
       "        text-align: right;\n",
       "    }\n",
       "</style>\n",
       "<table border=\"1\" class=\"dataframe\">\n",
       "  <thead>\n",
       "    <tr style=\"text-align: right;\">\n",
       "      <th></th>\n",
       "      <th>mean</th>\n",
       "      <th>count</th>\n",
       "      <th>diff</th>\n",
       "      <th>risk</th>\n",
       "    </tr>\n",
       "    <tr>\n",
       "      <th>education</th>\n",
       "      <th></th>\n",
       "      <th></th>\n",
       "      <th></th>\n",
       "      <th></th>\n",
       "    </tr>\n",
       "  </thead>\n",
       "  <tbody>\n",
       "    <tr>\n",
       "      <th>graduate</th>\n",
       "      <td>0.708333</td>\n",
       "      <td>480</td>\n",
       "      <td>0.021037</td>\n",
       "      <td>1.030608</td>\n",
       "    </tr>\n",
       "    <tr>\n",
       "      <th>not_graduate</th>\n",
       "      <td>0.611940</td>\n",
       "      <td>134</td>\n",
       "      <td>-0.075356</td>\n",
       "      <td>0.890359</td>\n",
       "    </tr>\n",
       "  </tbody>\n",
       "</table>\n",
       "</div>"
      ],
      "text/plain": [
       "                  mean  count      diff      risk\n",
       "education                                        \n",
       "graduate      0.708333    480  0.021037  1.030608\n",
       "not_graduate  0.611940    134 -0.075356  0.890359"
      ]
     },
     "metadata": {},
     "output_type": "display_data"
    },
    {
     "data": {
      "text/html": [
       "<div>\n",
       "<style scoped>\n",
       "    .dataframe tbody tr th:only-of-type {\n",
       "        vertical-align: middle;\n",
       "    }\n",
       "\n",
       "    .dataframe tbody tr th {\n",
       "        vertical-align: top;\n",
       "    }\n",
       "\n",
       "    .dataframe thead th {\n",
       "        text-align: right;\n",
       "    }\n",
       "</style>\n",
       "<table border=\"1\" class=\"dataframe\">\n",
       "  <thead>\n",
       "    <tr style=\"text-align: right;\">\n",
       "      <th></th>\n",
       "      <th>mean</th>\n",
       "      <th>count</th>\n",
       "      <th>diff</th>\n",
       "      <th>risk</th>\n",
       "    </tr>\n",
       "    <tr>\n",
       "      <th>dependents</th>\n",
       "      <th></th>\n",
       "      <th></th>\n",
       "      <th></th>\n",
       "      <th></th>\n",
       "    </tr>\n",
       "  </thead>\n",
       "  <tbody>\n",
       "    <tr>\n",
       "      <th>0.0</th>\n",
       "      <td>0.686111</td>\n",
       "      <td>360</td>\n",
       "      <td>-0.001185</td>\n",
       "      <td>0.998275</td>\n",
       "    </tr>\n",
       "    <tr>\n",
       "      <th>1.0</th>\n",
       "      <td>0.647059</td>\n",
       "      <td>102</td>\n",
       "      <td>-0.040238</td>\n",
       "      <td>0.941455</td>\n",
       "    </tr>\n",
       "    <tr>\n",
       "      <th>2.0</th>\n",
       "      <td>0.752475</td>\n",
       "      <td>101</td>\n",
       "      <td>0.065179</td>\n",
       "      <td>1.094834</td>\n",
       "    </tr>\n",
       "    <tr>\n",
       "      <th>4.0</th>\n",
       "      <td>0.647059</td>\n",
       "      <td>51</td>\n",
       "      <td>-0.040238</td>\n",
       "      <td>0.941455</td>\n",
       "    </tr>\n",
       "  </tbody>\n",
       "</table>\n",
       "</div>"
      ],
      "text/plain": [
       "                mean  count      diff      risk\n",
       "dependents                                     \n",
       "0.0         0.686111    360 -0.001185  0.998275\n",
       "1.0         0.647059    102 -0.040238  0.941455\n",
       "2.0         0.752475    101  0.065179  1.094834\n",
       "4.0         0.647059     51 -0.040238  0.941455"
      ]
     },
     "metadata": {},
     "output_type": "display_data"
    },
    {
     "data": {
      "text/html": [
       "<div>\n",
       "<style scoped>\n",
       "    .dataframe tbody tr th:only-of-type {\n",
       "        vertical-align: middle;\n",
       "    }\n",
       "\n",
       "    .dataframe tbody tr th {\n",
       "        vertical-align: top;\n",
       "    }\n",
       "\n",
       "    .dataframe thead th {\n",
       "        text-align: right;\n",
       "    }\n",
       "</style>\n",
       "<table border=\"1\" class=\"dataframe\">\n",
       "  <thead>\n",
       "    <tr style=\"text-align: right;\">\n",
       "      <th></th>\n",
       "      <th>mean</th>\n",
       "      <th>count</th>\n",
       "      <th>diff</th>\n",
       "      <th>risk</th>\n",
       "    </tr>\n",
       "    <tr>\n",
       "      <th>gender</th>\n",
       "      <th></th>\n",
       "      <th></th>\n",
       "      <th></th>\n",
       "      <th></th>\n",
       "    </tr>\n",
       "  </thead>\n",
       "  <tbody>\n",
       "    <tr>\n",
       "      <th>female</th>\n",
       "      <td>0.669643</td>\n",
       "      <td>112</td>\n",
       "      <td>-0.017654</td>\n",
       "      <td>0.974314</td>\n",
       "    </tr>\n",
       "    <tr>\n",
       "      <th>male</th>\n",
       "      <td>0.691235</td>\n",
       "      <td>502</td>\n",
       "      <td>0.003939</td>\n",
       "      <td>1.005731</td>\n",
       "    </tr>\n",
       "  </tbody>\n",
       "</table>\n",
       "</div>"
      ],
      "text/plain": [
       "            mean  count      diff      risk\n",
       "gender                                     \n",
       "female  0.669643    112 -0.017654  0.974314\n",
       "male    0.691235    502  0.003939  1.005731"
      ]
     },
     "metadata": {},
     "output_type": "display_data"
    },
    {
     "data": {
      "text/html": [
       "<div>\n",
       "<style scoped>\n",
       "    .dataframe tbody tr th:only-of-type {\n",
       "        vertical-align: middle;\n",
       "    }\n",
       "\n",
       "    .dataframe tbody tr th {\n",
       "        vertical-align: top;\n",
       "    }\n",
       "\n",
       "    .dataframe thead th {\n",
       "        text-align: right;\n",
       "    }\n",
       "</style>\n",
       "<table border=\"1\" class=\"dataframe\">\n",
       "  <thead>\n",
       "    <tr style=\"text-align: right;\">\n",
       "      <th></th>\n",
       "      <th>mean</th>\n",
       "      <th>count</th>\n",
       "      <th>diff</th>\n",
       "      <th>risk</th>\n",
       "    </tr>\n",
       "    <tr>\n",
       "      <th>self_employed</th>\n",
       "      <th></th>\n",
       "      <th></th>\n",
       "      <th></th>\n",
       "      <th></th>\n",
       "    </tr>\n",
       "  </thead>\n",
       "  <tbody>\n",
       "    <tr>\n",
       "      <th>no</th>\n",
       "      <td>0.687970</td>\n",
       "      <td>532</td>\n",
       "      <td>0.000674</td>\n",
       "      <td>1.000980</td>\n",
       "    </tr>\n",
       "    <tr>\n",
       "      <th>yes</th>\n",
       "      <td>0.682927</td>\n",
       "      <td>82</td>\n",
       "      <td>-0.004370</td>\n",
       "      <td>0.993642</td>\n",
       "    </tr>\n",
       "  </tbody>\n",
       "</table>\n",
       "</div>"
      ],
      "text/plain": [
       "                   mean  count      diff      risk\n",
       "self_employed                                     \n",
       "no             0.687970    532  0.000674  1.000980\n",
       "yes            0.682927     82 -0.004370  0.993642"
      ]
     },
     "metadata": {},
     "output_type": "display_data"
    }
   ],
   "source": [
    "# Grouping Categorical Columnns by mean and count per loan status and check the status rate and risk ration for each group.\n",
    "for col in categorical_cols:\n",
    "    df_group = loans.groupby(by=col).loan_status.agg(['mean','count'])\n",
    "    df_group['diff'] = df_group['mean'] - global_mean\n",
    "    df_group['risk'] = df_group['mean'] / global_mean\n",
    "    display(df_group)"
   ]
  },
  {
   "cell_type": "markdown",
   "id": "924fbe9c",
   "metadata": {},
   "source": [
    "# -----------------------"
   ]
  },
  {
   "cell_type": "code",
   "execution_count": 24,
   "id": "f0267420",
   "metadata": {},
   "outputs": [],
   "source": [
    "loans_analysis =  loans[['gender', 'married', 'dependents', 'education',\n",
    "       'self_employed', 'applicantincome', 'coapplicantincome', 'loanamount',\n",
    "       'loan_amount_term', 'credit_history', 'property_area', 'loan_status']]\n",
    "loans_analysis['total'] =loans_analysis.applicantincome + loans_analysis.coapplicantincome\n",
    "# loans_analysis['diff'] =loans_analysis.applicantincome - loans_analysis.loanamount\n",
    "# loans_analysis['total'] =loans_analysis.applicantincome + loans_analysis.coapplicantincome\n",
    "# loans_analysis['diff_1'] =loans_analysis.total - loans_analysis.loanamount\n",
    "# loans_analysis['diff'] = loans_analysis['diff'].astype(float)\n",
    "# loans_analysis['diff_1'] = loans_analysis['diff_1'].astype(float)\n",
    "# loans_analysis= loans_analysis.drop(columns=['applicantincome','coapplicantincome'])"
   ]
  },
  {
   "cell_type": "code",
   "execution_count": 25,
   "id": "3e6d5385",
   "metadata": {},
   "outputs": [],
   "source": [
    "# loans_analysis[loans_analysis.applicantincome ]"
   ]
  },
  {
   "cell_type": "code",
   "execution_count": 26,
   "id": "168b80c5",
   "metadata": {},
   "outputs": [
    {
     "data": {
      "text/plain": [
       "Index(['loan_id', 'gender', 'married', 'dependents', 'education',\n",
       "       'self_employed', 'applicantincome', 'coapplicantincome', 'loanamount',\n",
       "       'loan_amount_term', 'credit_history', 'property_area', 'loan_status'],\n",
       "      dtype='object')"
      ]
     },
     "execution_count": 26,
     "metadata": {},
     "output_type": "execute_result"
    }
   ],
   "source": [
    "loans.columns"
   ]
  },
  {
   "cell_type": "code",
   "execution_count": 27,
   "id": "4163e2e6",
   "metadata": {},
   "outputs": [
    {
     "data": {
      "text/plain": [
       "<Axes: xlabel='loan_status', ylabel='applicantincome'>"
      ]
     },
     "execution_count": 27,
     "metadata": {},
     "output_type": "execute_result"
    },
    {
     "data": {
      "image/png": "[encoded data removed]",
      "text/plain": [
       "<Figure size 640x480 with 1 Axes>"
      ]
     },
     "metadata": {},
     "output_type": "display_data"
    }
   ],
   "source": [
    "# # test\n",
    "\n",
    "area_credhistory = loans.copy()\n",
    "area_credhistory = area_credhistory[(area_credhistory.credit_history == 0)]\n",
    "# sns.boxenplot(data=area_credhistory, x='credit_history',y='property_area',hue='loan_status')\n",
    "# loans.pivot_table(values='loan_status', index=['credit_history','property_area'], aggfunc='sum')\n",
    "sns.scatterplot(data=area_credhistory, x= 'loan_status',y='applicantincome')\n",
    "# loans[(loans.loanamount == 600)& (loans.credit_history == 0)]"
   ]
  },
  {
   "cell_type": "code",
   "execution_count": 28,
   "id": "467a5ffa",
   "metadata": {
    "scrolled": false
   },
   "outputs": [
    {
     "data": {
      "text/html": [
       "<div>\n",
       "<style scoped>\n",
       "    .dataframe tbody tr th:only-of-type {\n",
       "        vertical-align: middle;\n",
       "    }\n",
       "\n",
       "    .dataframe tbody tr th {\n",
       "        vertical-align: top;\n",
       "    }\n",
       "\n",
       "    .dataframe thead th {\n",
       "        text-align: right;\n",
       "    }\n",
       "</style>\n",
       "<table border=\"1\" class=\"dataframe\">\n",
       "  <thead>\n",
       "    <tr style=\"text-align: right;\">\n",
       "      <th></th>\n",
       "      <th>loan_id</th>\n",
       "      <th>gender</th>\n",
       "      <th>married</th>\n",
       "      <th>dependents</th>\n",
       "      <th>education</th>\n",
       "      <th>self_employed</th>\n",
       "      <th>applicantincome</th>\n",
       "      <th>coapplicantincome</th>\n",
       "      <th>loanamount</th>\n",
       "      <th>loan_amount_term</th>\n",
       "      <th>credit_history</th>\n",
       "      <th>property_area</th>\n",
       "      <th>loan_status</th>\n",
       "    </tr>\n",
       "  </thead>\n",
       "  <tbody>\n",
       "    <tr>\n",
       "      <th>155</th>\n",
       "      <td>LP001536</td>\n",
       "      <td>male</td>\n",
       "      <td>yes</td>\n",
       "      <td>4.0</td>\n",
       "      <td>graduate</td>\n",
       "      <td>no</td>\n",
       "      <td>39999</td>\n",
       "      <td>0.0</td>\n",
       "      <td>600.0</td>\n",
       "      <td>180.0</td>\n",
       "      <td>0.0</td>\n",
       "      <td>semiurban</td>\n",
       "      <td>1</td>\n",
       "    </tr>\n",
       "  </tbody>\n",
       "</table>\n",
       "</div>"
      ],
      "text/plain": [
       "      loan_id gender married  dependents education self_employed  \\\n",
       "155  LP001536   male     yes         4.0  graduate            no   \n",
       "\n",
       "     applicantincome  coapplicantincome  loanamount  loan_amount_term  \\\n",
       "155            39999                0.0       600.0             180.0   \n",
       "\n",
       "     credit_history property_area  loan_status  \n",
       "155             0.0     semiurban            1  "
      ]
     },
     "execution_count": 28,
     "metadata": {},
     "output_type": "execute_result"
    },
    {
     "data": {
      "image/png": "[encoded data removed]",
      "text/plain": [
       "<Figure size 640x480 with 1 Axes>"
      ]
     },
     "metadata": {},
     "output_type": "display_data"
    }
   ],
   "source": [
    "area_credhistory = loans.copy()\n",
    "area_credhistory = loans_analysis[(loans_analysis.loanamount > 400) & (area_credhistory.credit_history == 0)]\n",
    "# sns.boxenplot(data=area_credhistory, x='credit_history',y='property_area',hue='loan_status')\n",
    "# loans.pivot_table(values='loan_status', index=['credit_history','property_area'], aggfunc='sum')\n",
    "sns.boxenplot(data=loans, x= 'credit_history',y='loanamount',hue='loan_status')\n",
    "loans[(loans.loanamount == 600)& (loans.credit_history == 0)]"
   ]
  },
  {
   "cell_type": "markdown",
   "id": "62058141",
   "metadata": {},
   "source": [
    "# 1st insight\n",
    "### - Altough Credit History is the most important feature for loans to be approved , but one oof the applicants income is very high we give approval . we need to investigate futher ... \n",
    "\n"
   ]
  },
  {
   "cell_type": "code",
   "execution_count": 29,
   "id": "3684aa09",
   "metadata": {
    "scrolled": false
   },
   "outputs": [
    {
     "name": "stderr",
     "output_type": "stream",
     "text": [
      "C:\\Users\\Moga\\AppData\\Local\\Temp\\ipykernel_12904\\1346467030.py:2: SettingWithCopyWarning: \n",
      "A value is trying to be set on a copy of a slice from a DataFrame.\n",
      "Try using .loc[row_indexer,col_indexer] = value instead\n",
      "\n",
      "See the caveats in the documentation: https://pandas.pydata.org/pandas-docs/stable/user_guide/indexing.html#returning-a-view-versus-a-copy\n",
      "  amount_income['avg'] = amount_income.loanamount  / amount_income.total * 100\n"
     ]
    },
    {
     "name": "stdout",
     "output_type": "stream",
     "text": [
      "avg income of approval :\n",
      " 2.346406676366091\n"
     ]
    },
    {
     "data": {
      "text/plain": [
       "<Axes: xlabel='avg', ylabel='Count'>"
      ]
     },
     "execution_count": 29,
     "metadata": {},
     "output_type": "execute_result"
    },
    {
     "data": {
      "image/png": "[encoded data removed]",
      "text/plain": [
       "<Figure size 640x480 with 1 Axes>"
      ]
     },
     "metadata": {},
     "output_type": "display_data"
    }
   ],
   "source": [
    "amount_income = loans_analysis[(loans_analysis.loan_status == 1)]\n",
    "amount_income['avg'] = amount_income.loanamount  / amount_income.total * 100\n",
    "print(f'avg income of approval :\\n {amount_income[\"avg\"].mean()}')\n",
    "amount_income[['avg','loanamount','applicantincome']].sort_values(by='loanamount', ascending= False).describe()\n",
    "sns.histplot(amount_income.avg)"
   ]
  },
  {
   "cell_type": "markdown",
   "id": "3a70a62c",
   "metadata": {},
   "source": [
    "# 2nd insight\n",
    "# - TO get approval,  loan amount on average is 2.34 of Total income (applicant income and Coapplicant income)  . Based on data we have , we don't give income more than 4 % of total income."
   ]
  },
  {
   "cell_type": "code",
   "execution_count": 30,
   "id": "f713ee56",
   "metadata": {},
   "outputs": [
    {
     "data": {
      "text/html": [
       "<div>\n",
       "<style scoped>\n",
       "    .dataframe tbody tr th:only-of-type {\n",
       "        vertical-align: middle;\n",
       "    }\n",
       "\n",
       "    .dataframe tbody tr th {\n",
       "        vertical-align: top;\n",
       "    }\n",
       "\n",
       "    .dataframe thead th {\n",
       "        text-align: right;\n",
       "    }\n",
       "</style>\n",
       "<table border=\"1\" class=\"dataframe\">\n",
       "  <thead>\n",
       "    <tr style=\"text-align: right;\">\n",
       "      <th></th>\n",
       "      <th>loan_id</th>\n",
       "      <th>gender</th>\n",
       "      <th>married</th>\n",
       "      <th>dependents</th>\n",
       "      <th>education</th>\n",
       "      <th>self_employed</th>\n",
       "      <th>applicantincome</th>\n",
       "      <th>coapplicantincome</th>\n",
       "      <th>loanamount</th>\n",
       "      <th>loan_amount_term</th>\n",
       "      <th>credit_history</th>\n",
       "      <th>property_area</th>\n",
       "      <th>loan_status</th>\n",
       "    </tr>\n",
       "  </thead>\n",
       "  <tbody>\n",
       "    <tr>\n",
       "      <th>155</th>\n",
       "      <td>LP001536</td>\n",
       "      <td>male</td>\n",
       "      <td>yes</td>\n",
       "      <td>4.0</td>\n",
       "      <td>graduate</td>\n",
       "      <td>no</td>\n",
       "      <td>39999</td>\n",
       "      <td>0.0</td>\n",
       "      <td>600.0</td>\n",
       "      <td>180.0</td>\n",
       "      <td>0.0</td>\n",
       "      <td>semiurban</td>\n",
       "      <td>1</td>\n",
       "    </tr>\n",
       "    <tr>\n",
       "      <th>267</th>\n",
       "      <td>LP001882</td>\n",
       "      <td>male</td>\n",
       "      <td>yes</td>\n",
       "      <td>4.0</td>\n",
       "      <td>graduate</td>\n",
       "      <td>no</td>\n",
       "      <td>4333</td>\n",
       "      <td>1811.0</td>\n",
       "      <td>160.0</td>\n",
       "      <td>360.0</td>\n",
       "      <td>0.0</td>\n",
       "      <td>urban</td>\n",
       "      <td>1</td>\n",
       "    </tr>\n",
       "  </tbody>\n",
       "</table>\n",
       "</div>"
      ],
      "text/plain": [
       "      loan_id gender married  dependents education self_employed  \\\n",
       "155  LP001536   male     yes         4.0  graduate            no   \n",
       "267  LP001882   male     yes         4.0  graduate            no   \n",
       "\n",
       "     applicantincome  coapplicantincome  loanamount  loan_amount_term  \\\n",
       "155            39999                0.0       600.0             180.0   \n",
       "267             4333             1811.0       160.0             360.0   \n",
       "\n",
       "     credit_history property_area  loan_status  \n",
       "155             0.0     semiurban            1  \n",
       "267             0.0         urban            1  "
      ]
     },
     "execution_count": 30,
     "metadata": {},
     "output_type": "execute_result"
    }
   ],
   "source": [
    "property_married = loans_analysis.copy()\n",
    "\n",
    "loans[(loans_analysis.credit_history == 0)& (loans_analysis.dependents == 4)&(loans.loan_status == 1)]"
   ]
  },
  {
   "cell_type": "markdown",
   "id": "34fe58dc",
   "metadata": {},
   "source": [
    "# 3rd insight\n",
    "\n",
    "## we should investigate about these 2 loan IDs if it should be approved or not as :\n",
    " - Especially Loan ID (LP001882) the loan amount .\n",
    " - Loan ID (LP001882) higher than applicant income plus applicant has bad credit history in addition not educated which all tends to not giving loan."
   ]
  },
  {
   "cell_type": "code",
   "execution_count": 31,
   "id": "3e1a7f27",
   "metadata": {},
   "outputs": [
    {
     "data": {
      "text/html": [
       "<div>\n",
       "<style scoped>\n",
       "    .dataframe tbody tr th:only-of-type {\n",
       "        vertical-align: middle;\n",
       "    }\n",
       "\n",
       "    .dataframe tbody tr th {\n",
       "        vertical-align: top;\n",
       "    }\n",
       "\n",
       "    .dataframe thead th {\n",
       "        text-align: right;\n",
       "    }\n",
       "</style>\n",
       "<table border=\"1\" class=\"dataframe\">\n",
       "  <thead>\n",
       "    <tr style=\"text-align: right;\">\n",
       "      <th></th>\n",
       "      <th>gender</th>\n",
       "      <th>married</th>\n",
       "      <th>dependents</th>\n",
       "      <th>education</th>\n",
       "      <th>self_employed</th>\n",
       "      <th>applicantincome</th>\n",
       "      <th>coapplicantincome</th>\n",
       "      <th>loanamount</th>\n",
       "      <th>loan_amount_term</th>\n",
       "      <th>credit_history</th>\n",
       "      <th>property_area</th>\n",
       "      <th>loan_status</th>\n",
       "      <th>total</th>\n",
       "    </tr>\n",
       "  </thead>\n",
       "  <tbody>\n",
       "    <tr>\n",
       "      <th>122</th>\n",
       "      <td>female</td>\n",
       "      <td>no</td>\n",
       "      <td>0.0</td>\n",
       "      <td>graduate</td>\n",
       "      <td>no</td>\n",
       "      <td>2137</td>\n",
       "      <td>8980.0</td>\n",
       "      <td>137.0</td>\n",
       "      <td>360.0</td>\n",
       "      <td>0.0</td>\n",
       "      <td>semiurban</td>\n",
       "      <td>1</td>\n",
       "      <td>11117.0</td>\n",
       "    </tr>\n",
       "    <tr>\n",
       "      <th>201</th>\n",
       "      <td>male</td>\n",
       "      <td>no</td>\n",
       "      <td>2.0</td>\n",
       "      <td>graduate</td>\n",
       "      <td>no</td>\n",
       "      <td>4923</td>\n",
       "      <td>0.0</td>\n",
       "      <td>166.0</td>\n",
       "      <td>360.0</td>\n",
       "      <td>0.0</td>\n",
       "      <td>semiurban</td>\n",
       "      <td>1</td>\n",
       "      <td>4923.0</td>\n",
       "    </tr>\n",
       "    <tr>\n",
       "      <th>326</th>\n",
       "      <td>male</td>\n",
       "      <td>no</td>\n",
       "      <td>0.0</td>\n",
       "      <td>graduate</td>\n",
       "      <td>no</td>\n",
       "      <td>4917</td>\n",
       "      <td>0.0</td>\n",
       "      <td>130.0</td>\n",
       "      <td>360.0</td>\n",
       "      <td>0.0</td>\n",
       "      <td>rural</td>\n",
       "      <td>1</td>\n",
       "      <td>4917.0</td>\n",
       "    </tr>\n",
       "  </tbody>\n",
       "</table>\n",
       "</div>"
      ],
      "text/plain": [
       "     gender married  dependents education self_employed  applicantincome  \\\n",
       "122  female      no         0.0  graduate            no             2137   \n",
       "201    male      no         2.0  graduate            no             4923   \n",
       "326    male      no         0.0  graduate            no             4917   \n",
       "\n",
       "     coapplicantincome  loanamount  loan_amount_term  credit_history  \\\n",
       "122             8980.0       137.0             360.0             0.0   \n",
       "201                0.0       166.0             360.0             0.0   \n",
       "326                0.0       130.0             360.0             0.0   \n",
       "\n",
       "    property_area  loan_status    total  \n",
       "122     semiurban            1  11117.0  \n",
       "201     semiurban            1   4923.0  \n",
       "326         rural            1   4917.0  "
      ]
     },
     "execution_count": 31,
     "metadata": {},
     "output_type": "execute_result"
    }
   ],
   "source": [
    " credit_col = loans_analysis[(loans_analysis.credit_history == 0)&(loans_analysis.married == 'no')&(loans_analysis.education == 'graduate')& (loans_analysis.loan_status ==1 )] \n",
    "# pd.crosstab([credit_col.education,credit_col.married],\n",
    "#             credit_col.loan_status, aggfunc=['count'], values= 'loan_status').plot(kind='barh')\n",
    "credit_col"
   ]
  },
  {
   "cell_type": "code",
   "execution_count": 32,
   "id": "d8d7351d",
   "metadata": {},
   "outputs": [],
   "source": [
    "# 4th insight\n",
    "# - applicants whose credit history is bad and not graduated also not married thay don't have "
   ]
  },
  {
   "cell_type": "code",
   "execution_count": 33,
   "id": "d74cf986",
   "metadata": {},
   "outputs": [
    {
     "data": {
      "text/html": [
       "<div>\n",
       "<style scoped>\n",
       "    .dataframe tbody tr th:only-of-type {\n",
       "        vertical-align: middle;\n",
       "    }\n",
       "\n",
       "    .dataframe tbody tr th {\n",
       "        vertical-align: top;\n",
       "    }\n",
       "\n",
       "    .dataframe thead tr th {\n",
       "        text-align: left;\n",
       "    }\n",
       "\n",
       "    .dataframe thead tr:last-of-type th {\n",
       "        text-align: right;\n",
       "    }\n",
       "</style>\n",
       "<table border=\"1\" class=\"dataframe\">\n",
       "  <thead>\n",
       "    <tr>\n",
       "      <th></th>\n",
       "      <th colspan=\"2\" halign=\"left\">count</th>\n",
       "    </tr>\n",
       "    <tr>\n",
       "      <th>loan_status</th>\n",
       "      <th>0</th>\n",
       "      <th>1</th>\n",
       "    </tr>\n",
       "    <tr>\n",
       "      <th>property_area</th>\n",
       "      <th></th>\n",
       "      <th></th>\n",
       "    </tr>\n",
       "  </thead>\n",
       "  <tbody>\n",
       "    <tr>\n",
       "      <th>rural</th>\n",
       "      <td>69</td>\n",
       "      <td>110</td>\n",
       "    </tr>\n",
       "    <tr>\n",
       "      <th>semiurban</th>\n",
       "      <td>54</td>\n",
       "      <td>179</td>\n",
       "    </tr>\n",
       "    <tr>\n",
       "      <th>urban</th>\n",
       "      <td>69</td>\n",
       "      <td>133</td>\n",
       "    </tr>\n",
       "  </tbody>\n",
       "</table>\n",
       "</div>"
      ],
      "text/plain": [
       "              count     \n",
       "loan_status       0    1\n",
       "property_area           \n",
       "rural            69  110\n",
       "semiurban        54  179\n",
       "urban            69  133"
      ]
     },
     "execution_count": 33,
     "metadata": {},
     "output_type": "execute_result"
    }
   ],
   "source": [
    "pd.crosstab(loans_analysis.property_area,\n",
    "            loans_analysis.loan_status, aggfunc=['count'], values= 'loan_status')"
   ]
  },
  {
   "cell_type": "code",
   "execution_count": 34,
   "id": "a97f6b3b",
   "metadata": {},
   "outputs": [
    {
     "data": {
      "text/plain": [
       "Index(['gender', 'married', 'dependents', 'education', 'self_employed',\n",
       "       'applicantincome', 'coapplicantincome', 'loanamount',\n",
       "       'loan_amount_term', 'credit_history', 'property_area', 'loan_status',\n",
       "       'total'],\n",
       "      dtype='object')"
      ]
     },
     "execution_count": 34,
     "metadata": {},
     "output_type": "execute_result"
    }
   ],
   "source": [
    "loans_analysis.columns"
   ]
  },
  {
   "cell_type": "code",
   "execution_count": 35,
   "id": "381d7000",
   "metadata": {},
   "outputs": [
    {
     "ename": "TypeError",
     "evalue": "Could not convert malemalemalemalemalemalemalemalemalemalemalemalemalemalemalemalemalefemalemalemalemalemalemalemalemalemalemalemalemalefemalemalemalemalemalemalemalemalefemalemalemalemalemalemalemalemalefemalemalemalefemalefemalefemalefemalefemalemalefemalemalemalemalemalemalemalemalemalemalefemalemalemalemalemalefemalemalemalemalemalemalemalemalemalemalemalefemalemalefemalemalemalemalemalemalemalemalemalemalemalemalemalemalefemalemalemalemalemalemalemalemalemalemalemalemalemalemalemalefemalemalefemalemalemalefemalemalemalefemalemalefemalefemalemalemalefemalemalemalemalemalemalemalemalemalemalemalefemalemalemalemalemalemalemalemalemalefemalefemalemalefemalemalemalemalemalemalemalemalemalemalemalemalemalemalemalemalemalemalefemalemalemalemalemalemalemalemalemalemalemalemalemalemalemalemalemalemalefemalemalemalemalemalemalemalemalemalemalemalemalemalefemalefemalemalemalemalemalemalemalefemalefemalemalemalemalefemalemalemalemalemalemalemalemalemalefemalemalemalemalemalemalemalemalemalemalemalemalemalemalefemalemalemalemalefemalefemalemalemalemalemalemalemalemalemalemalemalemalemalefemalemalemalemalefemalemalemalemalemalemalemalefemalefemalemalemalemalemalefemalefemalefemalemalemalemalemalemalemalemalemalefemalemalemalemalefemalemalemalefemalemalefemalemalemalemalemalefemalemalemalemalefemalefemalemalemalemalefemalemalemalemalefemalefemalemalemalefemalemalefemalemalemalemalemalemalefemalemalemalemalemalefemalemalemalemalemalefemalefemalemalemalemalemalemalemalemalemalefemalefemalemalefemalemalemalemalemalemalemalemalemalemalemalemalefemalefemalefemalemalemalemalemalefemalemalemalemalemalemalemalemalemalemalefemalemalemalemalefemalemalemalemalemalemalemalemalefemalemalemalemalemalemalemalemalemalemalemalemalemalemalefemalemalemalefemalemalemalemalefemalefemalefemalemalefemalemalemalefemalemalemalemalefemalefemalefemalemalemalemalemalefemalemalemalemalemalefemalemalemalemalefemalemalemalemalemalefemalemalemalemalefemalemalemalemalemalemalemalemalemalemalemalemalemalemalemalemalemalemalemalemalemalemalemalemalefemalemalemalemalemalefemalemalemalemalemalefemalemalemalemalemalemalemalefemalemalemalemalemalemalemalemalemalemalemalemalemalefemalemalefemalemalemalemalemalefemalefemalemalemalemalemalemalemalemalefemalemalemalemalemalemalemalefemalemalemalefemalemalemalemalemalemalemalemalemalemalemalemalemalemalemalefemalemalemalemalemalemalefemalefemalefemalemalefemalemalemalemalefemalemalemalemalemalemalemalemalefemalemalemalefemalemalefemalemalemalemalemalemalemalefemalemalemalemalemalemalemalemalemalemalemalemalemalemalefemalemalemalemalemalefemalemalemalemalemalemalemalemalemalemalemalemalemalefemalemalemalemalefemalemalemalemalemalefemalemalemalemalefemale to numeric",
     "output_type": "error",
     "traceback": [
      "\u001b[1;31m---------------------------------------------------------------------------\u001b[0m",
      "\u001b[1;31mValueError\u001b[0m                                Traceback (most recent call last)",
      "File \u001b[1;32m~\\anaconda3\\envs\\loan\\Lib\\site-packages\\pandas\\core\\nanops.py:1692\u001b[0m, in \u001b[0;36m_ensure_numeric\u001b[1;34m(x)\u001b[0m\n\u001b[0;32m   1691\u001b[0m \u001b[38;5;28;01mtry\u001b[39;00m:\n\u001b[1;32m-> 1692\u001b[0m     x \u001b[38;5;241m=\u001b[39m \u001b[38;5;28mfloat\u001b[39m(x)\n\u001b[0;32m   1693\u001b[0m \u001b[38;5;28;01mexcept\u001b[39;00m (\u001b[38;5;167;01mTypeError\u001b[39;00m, \u001b[38;5;167;01mValueError\u001b[39;00m):\n\u001b[0;32m   1694\u001b[0m     \u001b[38;5;66;03m# e.g. \"1+1j\" or \"foo\"\u001b[39;00m\n",
      "\u001b[1;31mValueError\u001b[0m: could not convert string to float: 'malemalemalemalemalemalemalemalemalemalemalemalemalemalemalemalemalefemalemalemalemalemalemalemalemalemalemalemalemalefemalemalemalemalemalemalemalemalefemalemalemalemalemalemalemalemalefemalemalemalefemalefemalefemalefemalefemalemalefemalemalemalemalemalemalemalemalemalemalefemalemalemalemalemalefemalemalemalemalemalemalemalemalemalemalemalefemalemalefemalemalemalemalemalemalemalemalemalemalemalemalemalemalefemalemalemalemalemalemalemalemalemalemalemalemalemalemalemalefemalemalefemalemalemalefemalemalemalefemalemalefemalefemalemalemalefemalemalemalemalemalemalemalemalemalemalemalefemalemalemalemalemalemalemalemalemalefemalefemalemalefemalemalemalemalemalemalemalemalemalemalemalemalemalemalemalemalemalemalefemalemalemalemalemalemalemalemalemalemalemalemalemalemalemalemalemalemalefemalemalemalemalemalemalemalemalemalemalemalemalemalefemalefemalemalemalemalemalemalemalefemalefemalemalemalemalefemalemalemalemalemalemalemalemalemalefemalemalemalemalemalemalemalemalemalemalemalemalemalemalefemalemalemalemalefemalefemalemalemalemalemalemalemalemalemalemalemalemalemalefemalemalemalemalefemalemalemalemalemalemalemalefemalefemalemalemalemalemalefemalefemalefemalemalemalemalemalemalemalemalemalefemalemalemalemalefemalemalemalefemalemalefemalemalemalemalemalefemalemalemalemalefemalefemalemalemalemalefemalemalemalemalefemalefemalemalemalefemalemalefemalemalemalemalemalemalefemalemalemalemalemalefemalemalemalemalemalefemalefemalemalemalemalemalemalemalemalemalefemalefemalemalefemalemalemalemalemalemalemalemalemalemalemalemalefemalefemalefemalemalemalemalemalefemalemalemalemalemalemalemalemalemalemalefemalemalemalemalefemalemalemalemalemalemalemalemalefemalemalemalemalemalemalemalemalemalemalemalemalemalemalefemalemalemalefemalemalemalemalefemalefemalefemalemalefemalemalemalefemalemalemalemalefemalefemalefemalemalemalemalemalefemalemalemalemalemalefemalemalemalemalefemalemalemalemalemalefemalemalemalemalefemalemalemalemalemalemalemalemalemalemalemalemalemalemalemalemalemalemalemalemalemalemalemalemalefemalemalemalemalemalefemalemalemalemalemalefemalemalemalemalemalemalemalefemalemalemalemalemalemalemalemalemalemalemalemalemalefemalemalefemalemalemalemalemalefemalefemalemalemalemalemalemalemalemalefemalemalemalemalemalemalemalefemalemalemalefemalemalemalemalemalemalemalemalemalemalemalemalemalemalemalefemalemalemalemalemalemalefemalefemalefemalemalefemalemalemalemalefemalemalemalemalemalemalemalemalefemalemalemalefemalemalefemalemalemalemalemalemalemalefemalemalemalemalemalemalemalemalemalemalemalemalemalemalefemalemalemalemalemalefemalemalemalemalemalemalemalemalemalemalemalemalemalefemalemalemalemalefemalemalemalemalemalefemalemalemalemalefemale'",
      "\nDuring handling of the above exception, another exception occurred:\n",
      "\u001b[1;31mValueError\u001b[0m                                Traceback (most recent call last)",
      "File \u001b[1;32m~\\anaconda3\\envs\\loan\\Lib\\site-packages\\pandas\\core\\nanops.py:1696\u001b[0m, in \u001b[0;36m_ensure_numeric\u001b[1;34m(x)\u001b[0m\n\u001b[0;32m   1695\u001b[0m \u001b[38;5;28;01mtry\u001b[39;00m:\n\u001b[1;32m-> 1696\u001b[0m     x \u001b[38;5;241m=\u001b[39m \u001b[38;5;28;43mcomplex\u001b[39;49m\u001b[43m(\u001b[49m\u001b[43mx\u001b[49m\u001b[43m)\u001b[49m\n\u001b[0;32m   1697\u001b[0m \u001b[38;5;28;01mexcept\u001b[39;00m \u001b[38;5;167;01mValueError\u001b[39;00m \u001b[38;5;28;01mas\u001b[39;00m err:\n\u001b[0;32m   1698\u001b[0m     \u001b[38;5;66;03m# e.g. \"foo\"\u001b[39;00m\n",
      "\u001b[1;31mValueError\u001b[0m: complex() arg is a malformed string",
      "\nThe above exception was the direct cause of the following exception:\n",
      "\u001b[1;31mTypeError\u001b[0m                                 Traceback (most recent call last)",
      "Cell \u001b[1;32mIn[35], line 2\u001b[0m\n\u001b[0;32m      1\u001b[0m \u001b[38;5;28;01mfor\u001b[39;00m i \u001b[38;5;129;01min\u001b[39;00m loans_analysis\u001b[38;5;241m.\u001b[39mcolumns:\n\u001b[1;32m----> 2\u001b[0m     \u001b[38;5;28mprint\u001b[39m(\u001b[38;5;124mf\u001b[39m\u001b[38;5;124m'\u001b[39m\u001b[38;5;132;01m{\u001b[39;00mi\u001b[38;5;132;01m}\u001b[39;00m\u001b[38;5;124m: \u001b[39m\u001b[38;5;132;01m{\u001b[39;00m\u001b[43mloans_analysis\u001b[49m\u001b[43m[\u001b[49m\u001b[43mi\u001b[49m\u001b[43m]\u001b[49m\u001b[38;5;241;43m.\u001b[39;49m\u001b[43mmean\u001b[49m\u001b[43m(\u001b[49m\u001b[43m)\u001b[49m\u001b[38;5;241m.\u001b[39mround(\u001b[38;5;241m3\u001b[39m)\u001b[38;5;132;01m}\u001b[39;00m\u001b[38;5;124m'\u001b[39m)\n\u001b[0;32m      3\u001b[0m loans_analysis\n",
      "File \u001b[1;32m~\\anaconda3\\envs\\loan\\Lib\\site-packages\\pandas\\core\\generic.py:11556\u001b[0m, in \u001b[0;36mNDFrame._add_numeric_operations.<locals>.mean\u001b[1;34m(self, axis, skipna, numeric_only, **kwargs)\u001b[0m\n\u001b[0;32m  11539\u001b[0m \u001b[38;5;129m@doc\u001b[39m(\n\u001b[0;32m  11540\u001b[0m     _num_doc,\n\u001b[0;32m  11541\u001b[0m     desc\u001b[38;5;241m=\u001b[39m\u001b[38;5;124m\"\u001b[39m\u001b[38;5;124mReturn the mean of the values over the requested axis.\u001b[39m\u001b[38;5;124m\"\u001b[39m,\n\u001b[1;32m   (...)\u001b[0m\n\u001b[0;32m  11554\u001b[0m     \u001b[38;5;241m*\u001b[39m\u001b[38;5;241m*\u001b[39mkwargs,\n\u001b[0;32m  11555\u001b[0m ):\n\u001b[1;32m> 11556\u001b[0m     \u001b[38;5;28;01mreturn\u001b[39;00m \u001b[43mNDFrame\u001b[49m\u001b[38;5;241;43m.\u001b[39;49m\u001b[43mmean\u001b[49m\u001b[43m(\u001b[49m\u001b[38;5;28;43mself\u001b[39;49m\u001b[43m,\u001b[49m\u001b[43m \u001b[49m\u001b[43maxis\u001b[49m\u001b[43m,\u001b[49m\u001b[43m \u001b[49m\u001b[43mskipna\u001b[49m\u001b[43m,\u001b[49m\u001b[43m \u001b[49m\u001b[43mnumeric_only\u001b[49m\u001b[43m,\u001b[49m\u001b[43m \u001b[49m\u001b[38;5;241;43m*\u001b[39;49m\u001b[38;5;241;43m*\u001b[39;49m\u001b[43mkwargs\u001b[49m\u001b[43m)\u001b[49m\n",
      "File \u001b[1;32m~\\anaconda3\\envs\\loan\\Lib\\site-packages\\pandas\\core\\generic.py:11201\u001b[0m, in \u001b[0;36mNDFrame.mean\u001b[1;34m(self, axis, skipna, numeric_only, **kwargs)\u001b[0m\n\u001b[0;32m  11194\u001b[0m \u001b[38;5;28;01mdef\u001b[39;00m \u001b[38;5;21mmean\u001b[39m(\n\u001b[0;32m  11195\u001b[0m     \u001b[38;5;28mself\u001b[39m,\n\u001b[0;32m  11196\u001b[0m     axis: Axis \u001b[38;5;241m|\u001b[39m \u001b[38;5;28;01mNone\u001b[39;00m \u001b[38;5;241m=\u001b[39m \u001b[38;5;241m0\u001b[39m,\n\u001b[1;32m   (...)\u001b[0m\n\u001b[0;32m  11199\u001b[0m     \u001b[38;5;241m*\u001b[39m\u001b[38;5;241m*\u001b[39mkwargs,\n\u001b[0;32m  11200\u001b[0m ) \u001b[38;5;241m-\u001b[39m\u001b[38;5;241m>\u001b[39m Series \u001b[38;5;241m|\u001b[39m \u001b[38;5;28mfloat\u001b[39m:\n\u001b[1;32m> 11201\u001b[0m     \u001b[38;5;28;01mreturn\u001b[39;00m \u001b[38;5;28;43mself\u001b[39;49m\u001b[38;5;241;43m.\u001b[39;49m\u001b[43m_stat_function\u001b[49m\u001b[43m(\u001b[49m\n\u001b[0;32m  11202\u001b[0m \u001b[43m        \u001b[49m\u001b[38;5;124;43m\"\u001b[39;49m\u001b[38;5;124;43mmean\u001b[39;49m\u001b[38;5;124;43m\"\u001b[39;49m\u001b[43m,\u001b[49m\u001b[43m \u001b[49m\u001b[43mnanops\u001b[49m\u001b[38;5;241;43m.\u001b[39;49m\u001b[43mnanmean\u001b[49m\u001b[43m,\u001b[49m\u001b[43m \u001b[49m\u001b[43maxis\u001b[49m\u001b[43m,\u001b[49m\u001b[43m \u001b[49m\u001b[43mskipna\u001b[49m\u001b[43m,\u001b[49m\u001b[43m \u001b[49m\u001b[43mnumeric_only\u001b[49m\u001b[43m,\u001b[49m\u001b[43m \u001b[49m\u001b[38;5;241;43m*\u001b[39;49m\u001b[38;5;241;43m*\u001b[39;49m\u001b[43mkwargs\u001b[49m\n\u001b[0;32m  11203\u001b[0m \u001b[43m    \u001b[49m\u001b[43m)\u001b[49m\n",
      "File \u001b[1;32m~\\anaconda3\\envs\\loan\\Lib\\site-packages\\pandas\\core\\generic.py:11158\u001b[0m, in \u001b[0;36mNDFrame._stat_function\u001b[1;34m(self, name, func, axis, skipna, numeric_only, **kwargs)\u001b[0m\n\u001b[0;32m  11154\u001b[0m     nv\u001b[38;5;241m.\u001b[39mvalidate_stat_func((), kwargs, fname\u001b[38;5;241m=\u001b[39mname)\n\u001b[0;32m  11156\u001b[0m validate_bool_kwarg(skipna, \u001b[38;5;124m\"\u001b[39m\u001b[38;5;124mskipna\u001b[39m\u001b[38;5;124m\"\u001b[39m, none_allowed\u001b[38;5;241m=\u001b[39m\u001b[38;5;28;01mFalse\u001b[39;00m)\n\u001b[1;32m> 11158\u001b[0m \u001b[38;5;28;01mreturn\u001b[39;00m \u001b[38;5;28;43mself\u001b[39;49m\u001b[38;5;241;43m.\u001b[39;49m\u001b[43m_reduce\u001b[49m\u001b[43m(\u001b[49m\n\u001b[0;32m  11159\u001b[0m \u001b[43m    \u001b[49m\u001b[43mfunc\u001b[49m\u001b[43m,\u001b[49m\u001b[43m \u001b[49m\u001b[43mname\u001b[49m\u001b[38;5;241;43m=\u001b[39;49m\u001b[43mname\u001b[49m\u001b[43m,\u001b[49m\u001b[43m \u001b[49m\u001b[43maxis\u001b[49m\u001b[38;5;241;43m=\u001b[39;49m\u001b[43maxis\u001b[49m\u001b[43m,\u001b[49m\u001b[43m \u001b[49m\u001b[43mskipna\u001b[49m\u001b[38;5;241;43m=\u001b[39;49m\u001b[43mskipna\u001b[49m\u001b[43m,\u001b[49m\u001b[43m \u001b[49m\u001b[43mnumeric_only\u001b[49m\u001b[38;5;241;43m=\u001b[39;49m\u001b[43mnumeric_only\u001b[49m\n\u001b[0;32m  11160\u001b[0m \u001b[43m\u001b[49m\u001b[43m)\u001b[49m\n",
      "File \u001b[1;32m~\\anaconda3\\envs\\loan\\Lib\\site-packages\\pandas\\core\\series.py:4670\u001b[0m, in \u001b[0;36mSeries._reduce\u001b[1;34m(self, op, name, axis, skipna, numeric_only, filter_type, **kwds)\u001b[0m\n\u001b[0;32m   4665\u001b[0m     \u001b[38;5;28;01mraise\u001b[39;00m \u001b[38;5;167;01mTypeError\u001b[39;00m(\n\u001b[0;32m   4666\u001b[0m         \u001b[38;5;124mf\u001b[39m\u001b[38;5;124m\"\u001b[39m\u001b[38;5;124mSeries.\u001b[39m\u001b[38;5;132;01m{\u001b[39;00mname\u001b[38;5;132;01m}\u001b[39;00m\u001b[38;5;124m does not allow \u001b[39m\u001b[38;5;132;01m{\u001b[39;00mkwd_name\u001b[38;5;132;01m}\u001b[39;00m\u001b[38;5;124m=\u001b[39m\u001b[38;5;132;01m{\u001b[39;00mnumeric_only\u001b[38;5;132;01m}\u001b[39;00m\u001b[38;5;124m \u001b[39m\u001b[38;5;124m\"\u001b[39m\n\u001b[0;32m   4667\u001b[0m         \u001b[38;5;124m\"\u001b[39m\u001b[38;5;124mwith non-numeric dtypes.\u001b[39m\u001b[38;5;124m\"\u001b[39m\n\u001b[0;32m   4668\u001b[0m     )\n\u001b[0;32m   4669\u001b[0m \u001b[38;5;28;01mwith\u001b[39;00m np\u001b[38;5;241m.\u001b[39merrstate(\u001b[38;5;28mall\u001b[39m\u001b[38;5;241m=\u001b[39m\u001b[38;5;124m\"\u001b[39m\u001b[38;5;124mignore\u001b[39m\u001b[38;5;124m\"\u001b[39m):\n\u001b[1;32m-> 4670\u001b[0m     \u001b[38;5;28;01mreturn\u001b[39;00m \u001b[43mop\u001b[49m\u001b[43m(\u001b[49m\u001b[43mdelegate\u001b[49m\u001b[43m,\u001b[49m\u001b[43m \u001b[49m\u001b[43mskipna\u001b[49m\u001b[38;5;241;43m=\u001b[39;49m\u001b[43mskipna\u001b[49m\u001b[43m,\u001b[49m\u001b[43m \u001b[49m\u001b[38;5;241;43m*\u001b[39;49m\u001b[38;5;241;43m*\u001b[39;49m\u001b[43mkwds\u001b[49m\u001b[43m)\u001b[49m\n",
      "File \u001b[1;32m~\\anaconda3\\envs\\loan\\Lib\\site-packages\\pandas\\core\\nanops.py:96\u001b[0m, in \u001b[0;36mdisallow.__call__.<locals>._f\u001b[1;34m(*args, **kwargs)\u001b[0m\n\u001b[0;32m     94\u001b[0m \u001b[38;5;28;01mtry\u001b[39;00m:\n\u001b[0;32m     95\u001b[0m     \u001b[38;5;28;01mwith\u001b[39;00m np\u001b[38;5;241m.\u001b[39merrstate(invalid\u001b[38;5;241m=\u001b[39m\u001b[38;5;124m\"\u001b[39m\u001b[38;5;124mignore\u001b[39m\u001b[38;5;124m\"\u001b[39m):\n\u001b[1;32m---> 96\u001b[0m         \u001b[38;5;28;01mreturn\u001b[39;00m \u001b[43mf\u001b[49m\u001b[43m(\u001b[49m\u001b[38;5;241;43m*\u001b[39;49m\u001b[43margs\u001b[49m\u001b[43m,\u001b[49m\u001b[43m \u001b[49m\u001b[38;5;241;43m*\u001b[39;49m\u001b[38;5;241;43m*\u001b[39;49m\u001b[43mkwargs\u001b[49m\u001b[43m)\u001b[49m\n\u001b[0;32m     97\u001b[0m \u001b[38;5;28;01mexcept\u001b[39;00m \u001b[38;5;167;01mValueError\u001b[39;00m \u001b[38;5;28;01mas\u001b[39;00m e:\n\u001b[0;32m     98\u001b[0m     \u001b[38;5;66;03m# we want to transform an object array\u001b[39;00m\n\u001b[0;32m     99\u001b[0m     \u001b[38;5;66;03m# ValueError message to the more typical TypeError\u001b[39;00m\n\u001b[0;32m    100\u001b[0m     \u001b[38;5;66;03m# e.g. this is normally a disallowed function on\u001b[39;00m\n\u001b[0;32m    101\u001b[0m     \u001b[38;5;66;03m# object arrays that contain strings\u001b[39;00m\n\u001b[0;32m    102\u001b[0m     \u001b[38;5;28;01mif\u001b[39;00m is_object_dtype(args[\u001b[38;5;241m0\u001b[39m]):\n",
      "File \u001b[1;32m~\\anaconda3\\envs\\loan\\Lib\\site-packages\\pandas\\core\\nanops.py:158\u001b[0m, in \u001b[0;36mbottleneck_switch.__call__.<locals>.f\u001b[1;34m(values, axis, skipna, **kwds)\u001b[0m\n\u001b[0;32m    156\u001b[0m         result \u001b[38;5;241m=\u001b[39m alt(values, axis\u001b[38;5;241m=\u001b[39maxis, skipna\u001b[38;5;241m=\u001b[39mskipna, \u001b[38;5;241m*\u001b[39m\u001b[38;5;241m*\u001b[39mkwds)\n\u001b[0;32m    157\u001b[0m \u001b[38;5;28;01melse\u001b[39;00m:\n\u001b[1;32m--> 158\u001b[0m     result \u001b[38;5;241m=\u001b[39m \u001b[43malt\u001b[49m\u001b[43m(\u001b[49m\u001b[43mvalues\u001b[49m\u001b[43m,\u001b[49m\u001b[43m \u001b[49m\u001b[43maxis\u001b[49m\u001b[38;5;241;43m=\u001b[39;49m\u001b[43maxis\u001b[49m\u001b[43m,\u001b[49m\u001b[43m \u001b[49m\u001b[43mskipna\u001b[49m\u001b[38;5;241;43m=\u001b[39;49m\u001b[43mskipna\u001b[49m\u001b[43m,\u001b[49m\u001b[43m \u001b[49m\u001b[38;5;241;43m*\u001b[39;49m\u001b[38;5;241;43m*\u001b[39;49m\u001b[43mkwds\u001b[49m\u001b[43m)\u001b[49m\n\u001b[0;32m    160\u001b[0m \u001b[38;5;28;01mreturn\u001b[39;00m result\n",
      "File \u001b[1;32m~\\anaconda3\\envs\\loan\\Lib\\site-packages\\pandas\\core\\nanops.py:421\u001b[0m, in \u001b[0;36m_datetimelike_compat.<locals>.new_func\u001b[1;34m(values, axis, skipna, mask, **kwargs)\u001b[0m\n\u001b[0;32m    418\u001b[0m \u001b[38;5;28;01mif\u001b[39;00m datetimelike \u001b[38;5;129;01mand\u001b[39;00m mask \u001b[38;5;129;01mis\u001b[39;00m \u001b[38;5;28;01mNone\u001b[39;00m:\n\u001b[0;32m    419\u001b[0m     mask \u001b[38;5;241m=\u001b[39m isna(values)\n\u001b[1;32m--> 421\u001b[0m result \u001b[38;5;241m=\u001b[39m \u001b[43mfunc\u001b[49m\u001b[43m(\u001b[49m\u001b[43mvalues\u001b[49m\u001b[43m,\u001b[49m\u001b[43m \u001b[49m\u001b[43maxis\u001b[49m\u001b[38;5;241;43m=\u001b[39;49m\u001b[43maxis\u001b[49m\u001b[43m,\u001b[49m\u001b[43m \u001b[49m\u001b[43mskipna\u001b[49m\u001b[38;5;241;43m=\u001b[39;49m\u001b[43mskipna\u001b[49m\u001b[43m,\u001b[49m\u001b[43m \u001b[49m\u001b[43mmask\u001b[49m\u001b[38;5;241;43m=\u001b[39;49m\u001b[43mmask\u001b[49m\u001b[43m,\u001b[49m\u001b[43m \u001b[49m\u001b[38;5;241;43m*\u001b[39;49m\u001b[38;5;241;43m*\u001b[39;49m\u001b[43mkwargs\u001b[49m\u001b[43m)\u001b[49m\n\u001b[0;32m    423\u001b[0m \u001b[38;5;28;01mif\u001b[39;00m datetimelike:\n\u001b[0;32m    424\u001b[0m     result \u001b[38;5;241m=\u001b[39m _wrap_results(result, orig_values\u001b[38;5;241m.\u001b[39mdtype, fill_value\u001b[38;5;241m=\u001b[39miNaT)\n",
      "File \u001b[1;32m~\\anaconda3\\envs\\loan\\Lib\\site-packages\\pandas\\core\\nanops.py:727\u001b[0m, in \u001b[0;36mnanmean\u001b[1;34m(values, axis, skipna, mask)\u001b[0m\n\u001b[0;32m    724\u001b[0m     dtype_count \u001b[38;5;241m=\u001b[39m dtype\n\u001b[0;32m    726\u001b[0m count \u001b[38;5;241m=\u001b[39m _get_counts(values\u001b[38;5;241m.\u001b[39mshape, mask, axis, dtype\u001b[38;5;241m=\u001b[39mdtype_count)\n\u001b[1;32m--> 727\u001b[0m the_sum \u001b[38;5;241m=\u001b[39m \u001b[43m_ensure_numeric\u001b[49m\u001b[43m(\u001b[49m\u001b[43mvalues\u001b[49m\u001b[38;5;241;43m.\u001b[39;49m\u001b[43msum\u001b[49m\u001b[43m(\u001b[49m\u001b[43maxis\u001b[49m\u001b[43m,\u001b[49m\u001b[43m \u001b[49m\u001b[43mdtype\u001b[49m\u001b[38;5;241;43m=\u001b[39;49m\u001b[43mdtype_sum\u001b[49m\u001b[43m)\u001b[49m\u001b[43m)\u001b[49m\n\u001b[0;32m    729\u001b[0m \u001b[38;5;28;01mif\u001b[39;00m axis \u001b[38;5;129;01mis\u001b[39;00m \u001b[38;5;129;01mnot\u001b[39;00m \u001b[38;5;28;01mNone\u001b[39;00m \u001b[38;5;129;01mand\u001b[39;00m \u001b[38;5;28mgetattr\u001b[39m(the_sum, \u001b[38;5;124m\"\u001b[39m\u001b[38;5;124mndim\u001b[39m\u001b[38;5;124m\"\u001b[39m, \u001b[38;5;28;01mFalse\u001b[39;00m):\n\u001b[0;32m    730\u001b[0m     count \u001b[38;5;241m=\u001b[39m cast(np\u001b[38;5;241m.\u001b[39mndarray, count)\n",
      "File \u001b[1;32m~\\anaconda3\\envs\\loan\\Lib\\site-packages\\pandas\\core\\nanops.py:1699\u001b[0m, in \u001b[0;36m_ensure_numeric\u001b[1;34m(x)\u001b[0m\n\u001b[0;32m   1696\u001b[0m             x \u001b[38;5;241m=\u001b[39m \u001b[38;5;28mcomplex\u001b[39m(x)\n\u001b[0;32m   1697\u001b[0m         \u001b[38;5;28;01mexcept\u001b[39;00m \u001b[38;5;167;01mValueError\u001b[39;00m \u001b[38;5;28;01mas\u001b[39;00m err:\n\u001b[0;32m   1698\u001b[0m             \u001b[38;5;66;03m# e.g. \"foo\"\u001b[39;00m\n\u001b[1;32m-> 1699\u001b[0m             \u001b[38;5;28;01mraise\u001b[39;00m \u001b[38;5;167;01mTypeError\u001b[39;00m(\u001b[38;5;124mf\u001b[39m\u001b[38;5;124m\"\u001b[39m\u001b[38;5;124mCould not convert \u001b[39m\u001b[38;5;132;01m{\u001b[39;00mx\u001b[38;5;132;01m}\u001b[39;00m\u001b[38;5;124m to numeric\u001b[39m\u001b[38;5;124m\"\u001b[39m) \u001b[38;5;28;01mfrom\u001b[39;00m \u001b[38;5;21;01merr\u001b[39;00m\n\u001b[0;32m   1700\u001b[0m \u001b[38;5;28;01mreturn\u001b[39;00m x\n",
      "\u001b[1;31mTypeError\u001b[0m: Could not convert malemalemalemalemalemalemalemalemalemalemalemalemalemalemalemalemalefemalemalemalemalemalemalemalemalemalemalemalemalefemalemalemalemalemalemalemalemalefemalemalemalemalemalemalemalemalefemalemalemalefemalefemalefemalefemalefemalemalefemalemalemalemalemalemalemalemalemalemalefemalemalemalemalemalefemalemalemalemalemalemalemalemalemalemalemalefemalemalefemalemalemalemalemalemalemalemalemalemalemalemalemalemalefemalemalemalemalemalemalemalemalemalemalemalemalemalemalemalefemalemalefemalemalemalefemalemalemalefemalemalefemalefemalemalemalefemalemalemalemalemalemalemalemalemalemalemalefemalemalemalemalemalemalemalemalemalefemalefemalemalefemalemalemalemalemalemalemalemalemalemalemalemalemalemalemalemalemalemalefemalemalemalemalemalemalemalemalemalemalemalemalemalemalemalemalemalemalefemalemalemalemalemalemalemalemalemalemalemalemalemalefemalefemalemalemalemalemalemalemalefemalefemalemalemalemalefemalemalemalemalemalemalemalemalemalefemalemalemalemalemalemalemalemalemalemalemalemalemalemalefemalemalemalemalefemalefemalemalemalemalemalemalemalemalemalemalemalemalemalefemalemalemalemalefemalemalemalemalemalemalemalefemalefemalemalemalemalemalefemalefemalefemalemalemalemalemalemalemalemalemalefemalemalemalemalefemalemalemalefemalemalefemalemalemalemalemalefemalemalemalemalefemalefemalemalemalemalefemalemalemalemalefemalefemalemalemalefemalemalefemalemalemalemalemalemalefemalemalemalemalemalefemalemalemalemalemalefemalefemalemalemalemalemalemalemalemalemalefemalefemalemalefemalemalemalemalemalemalemalemalemalemalemalemalefemalefemalefemalemalemalemalemalefemalemalemalemalemalemalemalemalemalemalefemalemalemalemalefemalemalemalemalemalemalemalemalefemalemalemalemalemalemalemalemalemalemalemalemalemalemalefemalemalemalefemalemalemalemalefemalefemalefemalemalefemalemalemalefemalemalemalemalefemalefemalefemalemalemalemalemalefemalemalemalemalemalefemalemalemalemalefemalemalemalemalemalefemalemalemalemalefemalemalemalemalemalemalemalemalemalemalemalemalemalemalemalemalemalemalemalemalemalemalemalemalefemalemalemalemalemalefemalemalemalemalemalefemalemalemalemalemalemalemalefemalemalemalemalemalemalemalemalemalemalemalemalemalefemalemalefemalemalemalemalemalefemalefemalemalemalemalemalemalemalemalefemalemalemalemalemalemalemalefemalemalemalefemalemalemalemalemalemalemalemalemalemalemalemalemalemalemalefemalemalemalemalemalemalefemalefemalefemalemalefemalemalemalemalefemalemalemalemalemalemalemalemalefemalemalemalefemalemalefemalemalemalemalemalemalemalefemalemalemalemalemalemalemalemalemalemalemalemalemalemalefemalemalemalemalemalefemalemalemalemalemalemalemalemalemalemalemalemalemalefemalemalemalemalefemalemalemalemalemalefemalemalemalemalefemale to numeric"
     ]
    }
   ],
   "source": [
    "for i in loans_analysis.columns:\n",
    "    print(f'{i}: {loans_analysis[i].mean().round(3)}')\n",
    "loans_analysis"
   ]
  },
  {
   "cell_type": "code",
   "execution_count": null,
   "id": "6b432118",
   "metadata": {
    "scrolled": false
   },
   "outputs": [],
   "source": [
    "case1 = loans_analysis[(loans_analysis.total > loans_analysis['total'].mean())& (loans_analysis.loanamount > loans_analysis['loanamount'].mean()) ]\n",
    "case2 = loans_analysis[(loans_analysis.total < loans_analysis['total'].mean())& (loans_analysis.loanamount > loans_analysis['loanamount'].mean()) ]\n",
    "case3 = loans_analysis[(loans_analysis.total > loans_analysis['total'].mean())& (loans_analysis.loanamount < loans_analysis['loanamount'].mean()) ]\n",
    "case4 = loans_analysis[(loans_analysis.total < loans_analysis['total'].mean())& (loans_analysis.loanamount < loans_analysis['loanamount'].mean()) ]\n",
    "# for i in case1,case2,case3,case4:\n",
    "#     sns.lmplot(data=i, x='total', y='loanamount',hue='loan_status')\n",
    "    \n",
    "#     plt.show()"
   ]
  },
  {
   "cell_type": "code",
   "execution_count": null,
   "id": "05be3783",
   "metadata": {},
   "outputs": [],
   "source": [
    "# Grouping Categorical Columnns by mean and count per loan status and check the status rate and risk ration for each group.\n",
    "for col in categorical_cols:\n",
    "    df_group = case2.groupby(by=col).loan_status.agg(['mean','count'])\n",
    "    df_group['diff'] = df_group['mean'] - global_mean\n",
    "    df_group['risk'] = df_group['mean'] / global_mean\n",
    "    display(df_group)"
   ]
  },
  {
   "cell_type": "code",
   "execution_count": null,
   "id": "d1c9b745",
   "metadata": {},
   "outputs": [],
   "source": [
    "# how much we konw abount Loan Status \n",
    "# create this function because apply function takes onlyl one argumnet and mutual_info_score takes two arguments. \n",
    "def calculate_mi(series):\n",
    "    return mutual_info_score(series, case1.loan_status)\n",
    "\n",
    "# appened function we created to apply function >> \n",
    "df_mi = case1[categorical_cols].apply(calculate_mi)\n",
    "df_mi = df_mi.sort_values(ascending=False).to_frame(name='MI')\n",
    "\n",
    "\n",
    "display(df_mi.head(10))"
   ]
  },
  {
   "cell_type": "code",
   "execution_count": null,
   "id": "7e87256b",
   "metadata": {},
   "outputs": [],
   "source": [
    "case1 = loans_analysis[(loans_analysis.total < loans_analysis['total'].mean())&\n",
    "                       (loans_analysis.loanamount > loans_analysis['loanamount'].mean())&\n",
    "                       ( laons_analysis.credit_history == 0 )&\n",
    "                       ( laons_analysis.loan_status ==  1)].head(50)\n",
    "case1"
   ]
  },
  {
   "cell_type": "markdown",
   "id": "d0f65d11",
   "metadata": {},
   "source": [
    "# -----------------------"
   ]
  },
  {
   "cell_type": "code",
   "execution_count": null,
   "id": "b08bd3c3",
   "metadata": {
    "scrolled": true
   },
   "outputs": [],
   "source": [
    "loans['credit_history'] = loans['credit_history'].astype(int)\n",
    "loans['credit_history'] == 0"
   ]
  },
  {
   "cell_type": "code",
   "execution_count": null,
   "id": "4ad684bd",
   "metadata": {
    "scrolled": true
   },
   "outputs": [],
   "source": [
    "loans[(loans['credit_history']== 0) & (loans['education'=='not_graduate'])]"
   ]
  },
  {
   "cell_type": "code",
   "execution_count": null,
   "id": "945eec67",
   "metadata": {
    "scrolled": true
   },
   "outputs": [],
   "source": [
    "loans[(loans.loan_status == 1) & (loans.education == 0) & (loans.credit_history == 0)].head(50)"
   ]
  },
  {
   "cell_type": "code",
   "execution_count": null,
   "id": "8cf7bba9",
   "metadata": {
    "scrolled": true
   },
   "outputs": [],
   "source": [
    "loans[(loans.loan_status == 0) & (loans.loanamount < 300) & (loans.credit_history == 0 & (loans.education == 0))].head(50)"
   ]
  },
  {
   "cell_type": "code",
   "execution_count": null,
   "id": "4b638492",
   "metadata": {
    "scrolled": false
   },
   "outputs": [],
   "source": [
    "loans[(loans.applicantincome < 100 )&(loans.loan_amount_term < 200 )&(loans.loan_status == 0 ) ].head(50)"
   ]
  },
  {
   "cell_type": "code",
   "execution_count": null,
   "id": "b98f99c4",
   "metadata": {
    "scrolled": true
   },
   "outputs": [],
   "source": [
    "loans[(loans.applicantincome  < 200)& (loans.loanamount > 200)]  \n",
    "loans[(loans.credit_history  ==  0)& (loans.loan_status == 1)]  "
   ]
  },
  {
   "cell_type": "code",
   "execution_count": null,
   "id": "aea2828a",
   "metadata": {
    "scrolled": false
   },
   "outputs": [],
   "source": [
    "sns.scatterplot(x='applicantincome', y='loanamount', data=loans , hue = 'loan_amount_term')"
   ]
  },
  {
   "cell_type": "code",
   "execution_count": null,
   "id": "7deb70a3",
   "metadata": {},
   "outputs": [],
   "source": [
    "loans.columns"
   ]
  },
  {
   "cell_type": "code",
   "execution_count": null,
   "id": "3fcf1e19",
   "metadata": {
    "scrolled": false
   },
   "outputs": [],
   "source": [
    "income_laonamount = loans[['gender', 'married', 'dependents', 'education',\n",
    "       'self_employed', 'applicantincome', 'coapplicantincome', 'loanamount',\n",
    "       'loan_amount_term', 'credit_history', 'property_area', 'loan_status']]\n",
    "income_laonamount['diff'] =income_laonamount.applicantincome - income_laonamount.loanamount\n",
    "income_laonamount['total'] =income_laonamount.applicantincome + income_laonamount.coapplicantincome\n",
    "income_laonamount['diff_1'] =income_laonamount.total - income_laonamount.loanamount\n",
    "income_laonamount['diff'] = income_laonamount['diff'].astype(float)\n",
    "income_laonamount['diff_1'] = income_laonamount['diff_1'].astype(float)\n",
    "income_laonamount=income_laonamount[(income_laonamount.diff_1 < 10000) & (income_laonamount.loan_status == 1 )& (income_laonamount.credit_history ==0) ]\n",
    "# sns.scatterplot(data=income_laonamount,x='diff',y='loanamount',hue='loan_status')\n",
    "sns.scatterplot(data=income_laonamount,x='diff_1',y='loanamount',hue='loan_status')\n",
    "income_laonamount\n",
    "# income_laonamount['diff_1'].median()"
   ]
  },
  {
   "cell_type": "code",
   "execution_count": null,
   "id": "6b0d390a",
   "metadata": {
    "scrolled": true
   },
   "outputs": [],
   "source": [
    "income_laonamount['diff_1'] = income_laonamount['diff_1'].astype(float)\n",
    "income_laonamount['diff'] = income_laonamount['diff'].astype(float)\n",
    "\n",
    "income_laonamount[(income_laonamount['diff']  < -300 ) & (income_laonamount.loan_status == 0) ].head(50)"
   ]
  },
  {
   "cell_type": "code",
   "execution_count": null,
   "id": "7a70c14a",
   "metadata": {},
   "outputs": [],
   "source": [
    "loans[(loans.loan_status == 1) & (loans.credit_history == 0)]"
   ]
  },
  {
   "cell_type": "code",
   "execution_count": null,
   "id": "4cfcffec",
   "metadata": {
    "scrolled": true
   },
   "outputs": [],
   "source": [
    "pd.crosstab(loans.loan_status,loans.credit_history)"
   ]
  },
  {
   "cell_type": "code",
   "execution_count": null,
   "id": "97c067c2",
   "metadata": {},
   "outputs": [],
   "source": [
    " loans[(loans.credit_history == 1) & (loans.loan_status == 0)&(loans.dependents == 0.0)&(loans.loan_amount_term == 360) ].sort_values(by='loanamount').head(50)"
   ]
  },
  {
   "cell_type": "code",
   "execution_count": null,
   "id": "2ec535bc",
   "metadata": {},
   "outputs": [],
   "source": [
    "hist_status = loans[(loans.credit_history == 1) &(loans.loan_status == 0) ]\n",
    "pd.crosstab(hist_status.loan_amount_term, hist_status.dependents )"
   ]
  },
  {
   "cell_type": "code",
   "execution_count": null,
   "id": "268692a6",
   "metadata": {},
   "outputs": [],
   "source": []
  },
  {
   "cell_type": "markdown",
   "id": "90eb8266",
   "metadata": {},
   "source": [
    "# -------------------"
   ]
  },
  {
   "cell_type": "code",
   "execution_count": null,
   "id": "d65bf794",
   "metadata": {
    "scrolled": true
   },
   "outputs": [],
   "source": [
    "# COoments here\n",
    "# Multivariant Exploriation "
   ]
  },
  {
   "cell_type": "markdown",
   "id": "3916698e",
   "metadata": {},
   "source": [
    "# 2.2) Feature importance: Mutual Information "
   ]
  },
  {
   "cell_type": "code",
   "execution_count": 37,
   "id": "7f34361d",
   "metadata": {
    "scrolled": true
   },
   "outputs": [],
   "source": [
    "# import mutual_info_score to check the importance of features for categorical dataset\n",
    "from sklearn.metrics import mutual_info_score"
   ]
  },
  {
   "cell_type": "code",
   "execution_count": 38,
   "id": "e616b757",
   "metadata": {
    "scrolled": false
   },
   "outputs": [
    {
     "data": {
      "text/html": [
       "<div>\n",
       "<style scoped>\n",
       "    .dataframe tbody tr th:only-of-type {\n",
       "        vertical-align: middle;\n",
       "    }\n",
       "\n",
       "    .dataframe tbody tr th {\n",
       "        vertical-align: top;\n",
       "    }\n",
       "\n",
       "    .dataframe thead th {\n",
       "        text-align: right;\n",
       "    }\n",
       "</style>\n",
       "<table border=\"1\" class=\"dataframe\">\n",
       "  <thead>\n",
       "    <tr style=\"text-align: right;\">\n",
       "      <th></th>\n",
       "      <th>MI</th>\n",
       "    </tr>\n",
       "  </thead>\n",
       "  <tbody>\n",
       "    <tr>\n",
       "      <th>credit_history</th>\n",
       "      <td>0.142400</td>\n",
       "    </tr>\n",
       "    <tr>\n",
       "      <th>property_area</th>\n",
       "      <td>0.010203</td>\n",
       "    </tr>\n",
       "    <tr>\n",
       "      <th>married</th>\n",
       "      <td>0.004130</td>\n",
       "    </tr>\n",
       "    <tr>\n",
       "      <th>education</th>\n",
       "      <td>0.003591</td>\n",
       "    </tr>\n",
       "    <tr>\n",
       "      <th>dependents</th>\n",
       "      <td>0.002618</td>\n",
       "    </tr>\n",
       "    <tr>\n",
       "      <th>gender</th>\n",
       "      <td>0.000161</td>\n",
       "    </tr>\n",
       "    <tr>\n",
       "      <th>self_employed</th>\n",
       "      <td>0.000007</td>\n",
       "    </tr>\n",
       "  </tbody>\n",
       "</table>\n",
       "</div>"
      ],
      "text/plain": [
       "                      MI\n",
       "credit_history  0.142400\n",
       "property_area   0.010203\n",
       "married         0.004130\n",
       "education       0.003591\n",
       "dependents      0.002618\n",
       "gender          0.000161\n",
       "self_employed   0.000007"
      ]
     },
     "metadata": {},
     "output_type": "display_data"
    }
   ],
   "source": [
    "# how much we konw abount Loan Status \n",
    "# create this function because apply function takes onlyl one argumnet and mutual_info_score takes two arguments. \n",
    "def calculate_mi(series):\n",
    "    return mutual_info_score(series, loans.loan_status)\n",
    "\n",
    "# appened function we created to apply function >> \n",
    "df_mi = loans[categorical_cols].apply(calculate_mi)\n",
    "df_mi = df_mi.sort_values(ascending=False).to_frame(name='MI')\n",
    "\n",
    "\n",
    "display(df_mi.head(10))"
   ]
  },
  {
   "cell_type": "markdown",
   "id": "cd87fc43",
   "metadata": {},
   "source": [
    "### Here we check how much we know about loan Status by checking the mean of the relation between the categorical features and Loan Status :\n",
    "-  the higher of mutual_info_score the more likely to take a loan. \n",
    "-  so here Credit History is the most important feature to determine if we will give a loan or not.\n",
    "-  then property area is less important than Credit  History and more important than Married Status and So on.\n",
    "-  the least important feature of our features is Self Employed and Gender we do not focus more on Gender and if he is self Employed or not.\n"
   ]
  },
  {
   "cell_type": "markdown",
   "id": "c6d058d0",
   "metadata": {},
   "source": [
    "# 2.3) Feature importance: Correlation "
   ]
  },
  {
   "cell_type": "markdown",
   "id": "75772541",
   "metadata": {},
   "source": [
    "- #### Correlaion Coefficient "
   ]
  },
  {
   "cell_type": "code",
   "execution_count": 41,
   "id": "cdb8ba84",
   "metadata": {
    "scrolled": true
   },
   "outputs": [
    {
     "data": {
      "text/html": [
       "<div>\n",
       "<style scoped>\n",
       "    .dataframe tbody tr th:only-of-type {\n",
       "        vertical-align: middle;\n",
       "    }\n",
       "\n",
       "    .dataframe tbody tr th {\n",
       "        vertical-align: top;\n",
       "    }\n",
       "\n",
       "    .dataframe thead th {\n",
       "        text-align: right;\n",
       "    }\n",
       "</style>\n",
       "<table border=\"1\" class=\"dataframe\">\n",
       "  <thead>\n",
       "    <tr style=\"text-align: right;\">\n",
       "      <th></th>\n",
       "      <th>correlation</th>\n",
       "    </tr>\n",
       "  </thead>\n",
       "  <tbody>\n",
       "    <tr>\n",
       "      <th>coapplicantincome</th>\n",
       "      <td>-0.059187</td>\n",
       "    </tr>\n",
       "    <tr>\n",
       "      <th>loanamount</th>\n",
       "      <td>-0.036416</td>\n",
       "    </tr>\n",
       "    <tr>\n",
       "      <th>loan_amount_term</th>\n",
       "      <td>-0.020974</td>\n",
       "    </tr>\n",
       "    <tr>\n",
       "      <th>applicantincome</th>\n",
       "      <td>-0.004710</td>\n",
       "    </tr>\n",
       "  </tbody>\n",
       "</table>\n",
       "</div>"
      ],
      "text/plain": [
       "                   correlation\n",
       "coapplicantincome    -0.059187\n",
       "loanamount           -0.036416\n",
       "loan_amount_term     -0.020974\n",
       "applicantincome      -0.004710"
      ]
     },
     "execution_count": 41,
     "metadata": {},
     "output_type": "execute_result"
    }
   ],
   "source": [
    "# Correation Coefficient between Numerical Featues and Loan Status\n",
    "loans[numerical_cols].corrwith(loans.loan_status).sort_values(ascending=True).to_frame('correlation')\n"
   ]
  },
  {
   "cell_type": "code",
   "execution_count": 42,
   "id": "05e0a285",
   "metadata": {
    "scrolled": true
   },
   "outputs": [
    {
     "data": {
      "text/html": [
       "<div>\n",
       "<style scoped>\n",
       "    .dataframe tbody tr th:only-of-type {\n",
       "        vertical-align: middle;\n",
       "    }\n",
       "\n",
       "    .dataframe tbody tr th {\n",
       "        vertical-align: top;\n",
       "    }\n",
       "\n",
       "    .dataframe thead th {\n",
       "        text-align: right;\n",
       "    }\n",
       "</style>\n",
       "<table border=\"1\" class=\"dataframe\">\n",
       "  <thead>\n",
       "    <tr style=\"text-align: right;\">\n",
       "      <th></th>\n",
       "      <th>applicantincome</th>\n",
       "      <th>coapplicantincome</th>\n",
       "      <th>loanamount</th>\n",
       "      <th>loan_amount_term</th>\n",
       "    </tr>\n",
       "  </thead>\n",
       "  <tbody>\n",
       "    <tr>\n",
       "      <th>applicantincome</th>\n",
       "      <td>1.000000</td>\n",
       "      <td>-0.116605</td>\n",
       "      <td>0.565620</td>\n",
       "      <td>-0.045242</td>\n",
       "    </tr>\n",
       "    <tr>\n",
       "      <th>coapplicantincome</th>\n",
       "      <td>-0.116605</td>\n",
       "      <td>1.000000</td>\n",
       "      <td>0.187828</td>\n",
       "      <td>-0.059675</td>\n",
       "    </tr>\n",
       "    <tr>\n",
       "      <th>loanamount</th>\n",
       "      <td>0.565620</td>\n",
       "      <td>0.187828</td>\n",
       "      <td>1.000000</td>\n",
       "      <td>0.038801</td>\n",
       "    </tr>\n",
       "    <tr>\n",
       "      <th>loan_amount_term</th>\n",
       "      <td>-0.045242</td>\n",
       "      <td>-0.059675</td>\n",
       "      <td>0.038801</td>\n",
       "      <td>1.000000</td>\n",
       "    </tr>\n",
       "  </tbody>\n",
       "</table>\n",
       "</div>"
      ],
      "text/plain": [
       "                   applicantincome  coapplicantincome  loanamount  \\\n",
       "applicantincome           1.000000          -0.116605    0.565620   \n",
       "coapplicantincome        -0.116605           1.000000    0.187828   \n",
       "loanamount                0.565620           0.187828    1.000000   \n",
       "loan_amount_term         -0.045242          -0.059675    0.038801   \n",
       "\n",
       "                   loan_amount_term  \n",
       "applicantincome           -0.045242  \n",
       "coapplicantincome         -0.059675  \n",
       "loanamount                 0.038801  \n",
       "loan_amount_term           1.000000  "
      ]
     },
     "execution_count": 42,
     "metadata": {},
     "output_type": "execute_result"
    }
   ],
   "source": [
    "loans[numerical_cols].corr()\n",
    "# statsmodel p-value"
   ]
  },
  {
   "cell_type": "markdown",
   "id": "8dac0b3c",
   "metadata": {},
   "source": [
    "## Correlation Coefficient is between -1 to 1 \n",
    "\n",
    "- #### let's say: \n",
    "- #### from 0.0 to 0.2 or 0.0 to -0.2 it's low correlation \n",
    "- #### from 0.2 to 0.5 or -0.2 to -0.5 it's moderate correlation \n",
    "- #### from 0.6 to 1.0 or -0.6 to -1.0 it's moderate correlation \n",
    "## so here negative correlation  :\n",
    "- #### the lower the correlation the higher percentage to give a loan\n",
    "- #### so here Credit History is the most important feature then laon amount and BTW it's all low correlation.\n",
    " "
   ]
  },
  {
   "cell_type": "code",
   "execution_count": 43,
   "id": "6491a970",
   "metadata": {
    "scrolled": false
   },
   "outputs": [
    {
     "data": {
      "text/html": [
       "<div>\n",
       "<style scoped>\n",
       "    .dataframe tbody tr th:only-of-type {\n",
       "        vertical-align: middle;\n",
       "    }\n",
       "\n",
       "    .dataframe tbody tr th {\n",
       "        vertical-align: top;\n",
       "    }\n",
       "\n",
       "    .dataframe thead th {\n",
       "        text-align: right;\n",
       "    }\n",
       "</style>\n",
       "<table border=\"1\" class=\"dataframe\">\n",
       "  <thead>\n",
       "    <tr style=\"text-align: right;\">\n",
       "      <th></th>\n",
       "      <th>applicantincome</th>\n",
       "      <th>coapplicantincome</th>\n",
       "      <th>loanamount</th>\n",
       "      <th>loan_amount_term</th>\n",
       "    </tr>\n",
       "    <tr>\n",
       "      <th>loan_status</th>\n",
       "      <th></th>\n",
       "      <th></th>\n",
       "      <th></th>\n",
       "      <th></th>\n",
       "    </tr>\n",
       "  </thead>\n",
       "  <tbody>\n",
       "    <tr>\n",
       "      <th>0</th>\n",
       "      <td>5446.078125</td>\n",
       "      <td>1877.807292</td>\n",
       "      <td>150.945488</td>\n",
       "      <td>344.000000</td>\n",
       "    </tr>\n",
       "    <tr>\n",
       "      <th>1</th>\n",
       "      <td>5384.068720</td>\n",
       "      <td>1504.516398</td>\n",
       "      <td>144.349606</td>\n",
       "      <td>341.090047</td>\n",
       "    </tr>\n",
       "  </tbody>\n",
       "</table>\n",
       "</div>"
      ],
      "text/plain": [
       "             applicantincome  coapplicantincome  loanamount  loan_amount_term\n",
       "loan_status                                                                  \n",
       "0                5446.078125        1877.807292  150.945488        344.000000\n",
       "1                5384.068720        1504.516398  144.349606        341.090047"
      ]
     },
     "execution_count": 43,
     "metadata": {},
     "output_type": "execute_result"
    }
   ],
   "source": [
    "loans.groupby(by='loan_status')[numerical].mean()\n"
   ]
  },
  {
   "cell_type": "markdown",
   "id": "a764330e",
   "metadata": {},
   "source": [
    "# 3) Label encoding"
   ]
  },
  {
   "cell_type": "markdown",
   "id": "94a1ad80",
   "metadata": {},
   "source": [
    " - #### encode categorical features"
   ]
  },
  {
   "cell_type": "code",
   "execution_count": 44,
   "id": "8939b29b",
   "metadata": {
    "scrolled": false
   },
   "outputs": [],
   "source": [
    "from sklearn.preprocessing import LabelEncoder\n",
    "#Initialize the label encoder\n",
    "label_encoder = LabelEncoder()\n",
    "# Apply label encoding to categorical columns\n",
    "loans['gender'] = label_encoder.fit_transform(loans['gender'])\n",
    "loans['self_employed'] = label_encoder.fit_transform(loans['self_employed'])\n",
    "loans['applicantincome'] = label_encoder.fit_transform(loans['applicantincome'])\n",
    "loans['property_area'] = label_encoder.fit_transform(loans['property_area'])\n",
    "loans['education'] = label_encoder.fit_transform(loans['education'])\n",
    "loans['married'] = label_encoder.fit_transform(loans['married'])\n"
   ]
  },
  {
   "cell_type": "code",
   "execution_count": 45,
   "id": "094675f0",
   "metadata": {
    "scrolled": true
   },
   "outputs": [],
   "source": [
    "X_values = loans[categorical_cols+numerical_cols]"
   ]
  },
  {
   "cell_type": "markdown",
   "id": "75ccab6c",
   "metadata": {},
   "source": [
    "#  feature Scaling"
   ]
  },
  {
   "cell_type": "code",
   "execution_count": 46,
   "id": "a47c70a0",
   "metadata": {
    "scrolled": true
   },
   "outputs": [],
   "source": [
    "# determine X , y \n",
    "x = X_values\n",
    "y = loans.loan_status"
   ]
  },
  {
   "cell_type": "code",
   "execution_count": 47,
   "id": "44818e7f",
   "metadata": {
    "scrolled": true
   },
   "outputs": [
    {
     "data": {
      "text/html": [
       "<div>\n",
       "<style scoped>\n",
       "    .dataframe tbody tr th:only-of-type {\n",
       "        vertical-align: middle;\n",
       "    }\n",
       "\n",
       "    .dataframe tbody tr th {\n",
       "        vertical-align: top;\n",
       "    }\n",
       "\n",
       "    .dataframe thead th {\n",
       "        text-align: right;\n",
       "    }\n",
       "</style>\n",
       "<table border=\"1\" class=\"dataframe\">\n",
       "  <thead>\n",
       "    <tr style=\"text-align: right;\">\n",
       "      <th></th>\n",
       "      <th>credit_history</th>\n",
       "      <th>property_area</th>\n",
       "      <th>married</th>\n",
       "      <th>education</th>\n",
       "      <th>dependents</th>\n",
       "      <th>gender</th>\n",
       "      <th>self_employed</th>\n",
       "      <th>applicantincome</th>\n",
       "      <th>coapplicantincome</th>\n",
       "      <th>loanamount</th>\n",
       "      <th>loan_amount_term</th>\n",
       "    </tr>\n",
       "  </thead>\n",
       "  <tbody>\n",
       "    <tr>\n",
       "      <th>0</th>\n",
       "      <td>1.0</td>\n",
       "      <td>2</td>\n",
       "      <td>0</td>\n",
       "      <td>0</td>\n",
       "      <td>0.0</td>\n",
       "      <td>1</td>\n",
       "      <td>0</td>\n",
       "      <td>376</td>\n",
       "      <td>0.0</td>\n",
       "      <td>146.412162</td>\n",
       "      <td>360.0</td>\n",
       "    </tr>\n",
       "    <tr>\n",
       "      <th>1</th>\n",
       "      <td>1.0</td>\n",
       "      <td>0</td>\n",
       "      <td>1</td>\n",
       "      <td>0</td>\n",
       "      <td>1.0</td>\n",
       "      <td>1</td>\n",
       "      <td>0</td>\n",
       "      <td>306</td>\n",
       "      <td>1508.0</td>\n",
       "      <td>128.000000</td>\n",
       "      <td>360.0</td>\n",
       "    </tr>\n",
       "    <tr>\n",
       "      <th>2</th>\n",
       "      <td>1.0</td>\n",
       "      <td>2</td>\n",
       "      <td>1</td>\n",
       "      <td>0</td>\n",
       "      <td>0.0</td>\n",
       "      <td>1</td>\n",
       "      <td>1</td>\n",
       "      <td>139</td>\n",
       "      <td>0.0</td>\n",
       "      <td>66.000000</td>\n",
       "      <td>360.0</td>\n",
       "    </tr>\n",
       "    <tr>\n",
       "      <th>3</th>\n",
       "      <td>1.0</td>\n",
       "      <td>2</td>\n",
       "      <td>1</td>\n",
       "      <td>1</td>\n",
       "      <td>0.0</td>\n",
       "      <td>1</td>\n",
       "      <td>0</td>\n",
       "      <td>90</td>\n",
       "      <td>2358.0</td>\n",
       "      <td>120.000000</td>\n",
       "      <td>360.0</td>\n",
       "    </tr>\n",
       "    <tr>\n",
       "      <th>4</th>\n",
       "      <td>1.0</td>\n",
       "      <td>2</td>\n",
       "      <td>0</td>\n",
       "      <td>0</td>\n",
       "      <td>0.0</td>\n",
       "      <td>1</td>\n",
       "      <td>0</td>\n",
       "      <td>381</td>\n",
       "      <td>0.0</td>\n",
       "      <td>141.000000</td>\n",
       "      <td>360.0</td>\n",
       "    </tr>\n",
       "    <tr>\n",
       "      <th>...</th>\n",
       "      <td>...</td>\n",
       "      <td>...</td>\n",
       "      <td>...</td>\n",
       "      <td>...</td>\n",
       "      <td>...</td>\n",
       "      <td>...</td>\n",
       "      <td>...</td>\n",
       "      <td>...</td>\n",
       "      <td>...</td>\n",
       "      <td>...</td>\n",
       "      <td>...</td>\n",
       "    </tr>\n",
       "    <tr>\n",
       "      <th>609</th>\n",
       "      <td>1.0</td>\n",
       "      <td>0</td>\n",
       "      <td>0</td>\n",
       "      <td>0</td>\n",
       "      <td>0.0</td>\n",
       "      <td>0</td>\n",
       "      <td>0</td>\n",
       "      <td>125</td>\n",
       "      <td>0.0</td>\n",
       "      <td>71.000000</td>\n",
       "      <td>360.0</td>\n",
       "    </tr>\n",
       "    <tr>\n",
       "      <th>610</th>\n",
       "      <td>1.0</td>\n",
       "      <td>0</td>\n",
       "      <td>1</td>\n",
       "      <td>0</td>\n",
       "      <td>4.0</td>\n",
       "      <td>1</td>\n",
       "      <td>0</td>\n",
       "      <td>275</td>\n",
       "      <td>0.0</td>\n",
       "      <td>40.000000</td>\n",
       "      <td>180.0</td>\n",
       "    </tr>\n",
       "    <tr>\n",
       "      <th>611</th>\n",
       "      <td>1.0</td>\n",
       "      <td>2</td>\n",
       "      <td>1</td>\n",
       "      <td>0</td>\n",
       "      <td>1.0</td>\n",
       "      <td>1</td>\n",
       "      <td>0</td>\n",
       "      <td>431</td>\n",
       "      <td>240.0</td>\n",
       "      <td>253.000000</td>\n",
       "      <td>360.0</td>\n",
       "    </tr>\n",
       "    <tr>\n",
       "      <th>612</th>\n",
       "      <td>1.0</td>\n",
       "      <td>2</td>\n",
       "      <td>1</td>\n",
       "      <td>0</td>\n",
       "      <td>2.0</td>\n",
       "      <td>1</td>\n",
       "      <td>0</td>\n",
       "      <td>422</td>\n",
       "      <td>0.0</td>\n",
       "      <td>187.000000</td>\n",
       "      <td>360.0</td>\n",
       "    </tr>\n",
       "    <tr>\n",
       "      <th>613</th>\n",
       "      <td>0.0</td>\n",
       "      <td>1</td>\n",
       "      <td>0</td>\n",
       "      <td>0</td>\n",
       "      <td>0.0</td>\n",
       "      <td>0</td>\n",
       "      <td>1</td>\n",
       "      <td>306</td>\n",
       "      <td>0.0</td>\n",
       "      <td>133.000000</td>\n",
       "      <td>360.0</td>\n",
       "    </tr>\n",
       "  </tbody>\n",
       "</table>\n",
       "<p>614 rows × 11 columns</p>\n",
       "</div>"
      ],
      "text/plain": [
       "     credit_history  property_area  married  education  dependents  gender  \\\n",
       "0               1.0              2        0          0         0.0       1   \n",
       "1               1.0              0        1          0         1.0       1   \n",
       "2               1.0              2        1          0         0.0       1   \n",
       "3               1.0              2        1          1         0.0       1   \n",
       "4               1.0              2        0          0         0.0       1   \n",
       "..              ...            ...      ...        ...         ...     ...   \n",
       "609             1.0              0        0          0         0.0       0   \n",
       "610             1.0              0        1          0         4.0       1   \n",
       "611             1.0              2        1          0         1.0       1   \n",
       "612             1.0              2        1          0         2.0       1   \n",
       "613             0.0              1        0          0         0.0       0   \n",
       "\n",
       "     self_employed  applicantincome  coapplicantincome  loanamount  \\\n",
       "0                0              376                0.0  146.412162   \n",
       "1                0              306             1508.0  128.000000   \n",
       "2                1              139                0.0   66.000000   \n",
       "3                0               90             2358.0  120.000000   \n",
       "4                0              381                0.0  141.000000   \n",
       "..             ...              ...                ...         ...   \n",
       "609              0              125                0.0   71.000000   \n",
       "610              0              275                0.0   40.000000   \n",
       "611              0              431              240.0  253.000000   \n",
       "612              0              422                0.0  187.000000   \n",
       "613              1              306                0.0  133.000000   \n",
       "\n",
       "     loan_amount_term  \n",
       "0               360.0  \n",
       "1               360.0  \n",
       "2               360.0  \n",
       "3               360.0  \n",
       "4               360.0  \n",
       "..                ...  \n",
       "609             360.0  \n",
       "610             180.0  \n",
       "611             360.0  \n",
       "612             360.0  \n",
       "613             360.0  \n",
       "\n",
       "[614 rows x 11 columns]"
      ]
     },
     "execution_count": 47,
     "metadata": {},
     "output_type": "execute_result"
    }
   ],
   "source": [
    "x"
   ]
  },
  {
   "cell_type": "code",
   "execution_count": 48,
   "id": "6f0415b5",
   "metadata": {
    "scrolled": true
   },
   "outputs": [
    {
     "name": "stdout",
     "output_type": "stream",
     "text": [
      "Normalized Dataset: \n",
      "   credit_history  property_area  married  education  dependents  gender  \\\n",
      "0             1.0              2        0          0         0.0       1   \n",
      "1             1.0              0        1          0         1.0       1   \n",
      "2             1.0              2        1          0         0.0       1   \n",
      "3             1.0              2        1          1         0.0       1   \n",
      "4             1.0              2        0          0         0.0       1   \n",
      "\n",
      "   self_employed  applicantincome  coapplicantincome  loanamount  \\\n",
      "0              0         0.898633          -0.554487    0.000000   \n",
      "1              0         0.410559          -0.038732   -0.219273   \n",
      "2              1        -0.753846          -0.554487   -0.957641   \n",
      "3              0        -1.095498           0.251980   -0.314547   \n",
      "4              0         0.933495          -0.554487   -0.064454   \n",
      "\n",
      "   loan_amount_term  \n",
      "0          0.279851  \n",
      "1          0.279851  \n",
      "2          0.279851  \n",
      "3          0.279851  \n",
      "4          0.279851  \n"
     ]
    },
    {
     "name": "stderr",
     "output_type": "stream",
     "text": [
      "C:\\Users\\Moga\\AppData\\Local\\Temp\\ipykernel_9020\\2160872824.py:5: SettingWithCopyWarning: \n",
      "A value is trying to be set on a copy of a slice from a DataFrame.\n",
      "Try using .loc[row_indexer,col_indexer] = value instead\n",
      "\n",
      "See the caveats in the documentation: https://pandas.pydata.org/pandas-docs/stable/user_guide/indexing.html#returning-a-view-versus-a-copy\n",
      "  x[Scaled_cols]=st.fit_transform(x[Scaled_cols])\n"
     ]
    }
   ],
   "source": [
    "Scaled_cols = ['applicantincome','coapplicantincome','loanamount','loan_amount_term']\n",
    "# perform MinMaxScaler on the selected collumns\n",
    "from sklearn.preprocessing import StandardScaler\n",
    "st = StandardScaler()\n",
    "x[Scaled_cols]=st.fit_transform(x[Scaled_cols])\n",
    "\n",
    "# print the normalized dataset \n",
    "print('Normalized Dataset: ')\n",
    "print(x.head())\n"
   ]
  },
  {
   "cell_type": "markdown",
   "id": "3b32d939",
   "metadata": {},
   "source": [
    "# 4) Splitting The Dataset Into The Training Set And Test Set & Applying K-Fold Cross Validation"
   ]
  },
  {
   "cell_type": "code",
   "execution_count": 49,
   "id": "80408a50",
   "metadata": {
    "scrolled": true
   },
   "outputs": [],
   "source": [
    "from sklearn.model_selection import train_test_split\n",
    "from sklearn.model_selection import cross_val_score\n",
    "from sklearn.metrics import accuracy_score\n",
    "import numpy as np"
   ]
  },
  {
   "cell_type": "code",
   "execution_count": 50,
   "id": "305b8897",
   "metadata": {
    "scrolled": true
   },
   "outputs": [],
   "source": [
    "X_train, X_test, y_train, y_test = train_test_split(x, y, test_size = 0.3, random_state = 0)"
   ]
  },
  {
   "cell_type": "markdown",
   "id": "a023c814",
   "metadata": {},
   "source": [
    "# 5) LogisticRegression"
   ]
  },
  {
   "cell_type": "code",
   "execution_count": 51,
   "id": "f3b98688",
   "metadata": {
    "scrolled": true
   },
   "outputs": [
    {
     "ename": "NameError",
     "evalue": "name 'y_predict' is not defined",
     "output_type": "error",
     "traceback": [
      "\u001b[1;31m---------------------------------------------------------------------------\u001b[0m",
      "\u001b[1;31mNameError\u001b[0m                                 Traceback (most recent call last)",
      "Cell \u001b[1;32mIn[51], line 2\u001b[0m\n\u001b[0;32m      1\u001b[0m \u001b[38;5;66;03m#Calculating Confusion Matrix\u001b[39;00m\n\u001b[1;32m----> 2\u001b[0m CM \u001b[38;5;241m=\u001b[39m confusion_matrix(y_test, \u001b[43my_predict\u001b[49m)\n\u001b[0;32m      3\u001b[0m \u001b[38;5;28mprint\u001b[39m(\u001b[38;5;124m'\u001b[39m\u001b[38;5;124mConfusion Matrix is : \u001b[39m\u001b[38;5;130;01m\\n\u001b[39;00m\u001b[38;5;124m'\u001b[39m, CM)\n\u001b[0;32m      5\u001b[0m \u001b[38;5;66;03m# drawing confusion matrix\u001b[39;00m\n",
      "\u001b[1;31mNameError\u001b[0m: name 'y_predict' is not defined"
     ]
    }
   ],
   "source": [
    "#Calculating Confusion Matrix\n",
    "CM = confusion_matrix(y_test, y_predict)\n",
    "print('Confusion Matrix is : \\n', CM)\n",
    "\n",
    "# drawing confusion matrix\n",
    "sns.heatmap(CM, center = True,cmap='coolwarm')\n",
    "plt.show()"
   ]
  },
  {
   "cell_type": "code",
   "execution_count": null,
   "id": "a4e6c0e8",
   "metadata": {
    "scrolled": false
   },
   "outputs": [],
   "source": [
    "LR = LogisticRegression(solver='liblinear', random_state=1,class_weight='balanced' )\n",
    "LR.fit(X_train, y_train)\n",
    "\n",
    "y_predict = LR.predict(X_test)\n",
    "\n",
    "#  prediction Summary by species\n",
    "print(classification_report(y_test, y_predict))\n",
    "\n",
    "# Accuracy score\n",
    "LR_SC = accuracy_score(y_predict,y_test)\n",
    "print('accuracy is',accuracy_score(y_predict,y_test))"
   ]
  },
  {
   "cell_type": "code",
   "execution_count": null,
   "id": "7382be19",
   "metadata": {
    "scrolled": true
   },
   "outputs": [],
   "source": [
    "#Calculating Confusion Matrix\n",
    "CM = confusion_matrix(y_test, y_predict)\n",
    "print('Confusion Matrix is : \\n', CM)\n",
    "\n",
    "# drawing confusion matrix\n",
    "sns.heatmap(CM, center = True,cmap='coolwarm')\n",
    "plt.show()"
   ]
  },
  {
   "cell_type": "code",
   "execution_count": null,
   "id": "0f4442bd",
   "metadata": {
    "scrolled": true
   },
   "outputs": [],
   "source": []
  },
  {
   "cell_type": "code",
   "execution_count": null,
   "id": "fbddce09",
   "metadata": {
    "scrolled": true
   },
   "outputs": [],
   "source": [
    "from imblearn.over_sampling import RandomOverSampler\n",
    "from sklearn.linear_model import LogisticRegression\n",
    "from sklearn.metrics import classification_report, accuracy_score\n",
    "\n",
    "# Create an instance of the RandomOverSampler\n",
    "oversampler = RandomOverSampler(random_state=1)\n",
    "\n",
    "# Apply oversampling to the training data\n",
    "X_train_resampled, y_train_resampled = oversampler.fit_resample(X_train, y_train)\n",
    "\n",
    "# Create an instance of LogisticRegression\n",
    "LR = LogisticRegression(solver='liblinear', random_state=1,class_weight='balanced')\n",
    "\n",
    "# Fit the logistic regression model on the resampled data\n",
    "LR.fit(X_train_resampled, y_train_resampled)\n",
    "\n",
    "# Make predictions on the test data\n",
    "y_predict = LR.predict(X_test)\n",
    "\n",
    "# Print classification report\n",
    "print(classification_report(y_test, y_predict))\n",
    "\n",
    "# Calculate and print accuracy score\n",
    "accuracy = accuracy_score(y_test, y_predict)\n",
    "print('Accuracy:', accuracy)"
   ]
  },
  {
   "cell_type": "code",
   "execution_count": null,
   "id": "cc444f46",
   "metadata": {
    "scrolled": false
   },
   "outputs": [],
   "source": [
    "#Calculating Confusion Matrix\n",
    "CM = confusion_matrix(y_test, y_predict)\n",
    "print('Confusion Matrix is : \\n', CM)\n",
    "\n",
    "# drawing confusion matrix\n",
    "sns.heatmap(CM, center = True,cmap='coolwarm')\n",
    "plt.show()"
   ]
  },
  {
   "cell_type": "code",
   "execution_count": null,
   "id": "48e7fa65",
   "metadata": {
    "scrolled": true
   },
   "outputs": [],
   "source": [
    "Logistic_Regression=pd.DataFrame({'y_test':y_test,'prediction':y_predict})\n",
    "Logistic_Regression.head(5)"
   ]
  },
  {
   "cell_type": "markdown",
   "id": "908a7a34",
   "metadata": {},
   "source": [
    "# Adjusted Logistic Regression"
   ]
  },
  {
   "cell_type": "code",
   "execution_count": null,
   "id": "1770aa77",
   "metadata": {},
   "outputs": [],
   "source": [
    "from sklearn.model_selection import GridSearchCV\n",
    "from sklearn.metrics import classification_report, confusion_matrix, accuracy_score\n",
    "\n",
    "# Create a Logistic Regression classifier\n",
    "LRclassifier = LogisticRegression()\n",
    "\n",
    "# Define the parameter grid to search\n",
    "param_grid = {\n",
    "    'penalty': ['l1', 'l2'],\n",
    "    'C': [0.1, 1, 10]\n",
    "}\n",
    "\n",
    "# Perform grid search with cross-validation\n",
    "grid_search = GridSearchCV(estimator=LRclassifier, param_grid=param_grid, cv=5)\n",
    "grid_search.fit(X_train, y_train)\n",
    "\n",
    "# Get the best parameters and best score\n",
    "best_params = grid_search.best_params_\n",
    "best_score = grid_search.best_score_\n",
    "\n",
    "# Create a new Logistic Regression classifier with the best parameters\n",
    "LRclassifier_best = LogisticRegression(**best_params, class_weight='balanced')\n",
    "\n",
    "# Fit the classifier to the training data\n",
    "LRclassifier_best.fit(X_train, y_train)\n",
    "\n",
    "# Make predictions on the test data\n",
    "y_pred = LRclassifier_best.predict(X_test)\n",
    "\n",
    "# Print classification report and confusion matrix\n",
    "print(classification_report(y_test, y_pred))\n",
    "print(confusion_matrix(y_test, y_pred))\n",
    "\n",
    "# Calculate accuracy\n",
    "accuracy = accuracy_score(y_test, y_pred)"
   ]
  },
  {
   "cell_type": "code",
   "execution_count": null,
   "id": "e279e13e",
   "metadata": {},
   "outputs": [],
   "source": [
    "accuracy"
   ]
  },
  {
   "cell_type": "markdown",
   "id": "e07f7b1b",
   "metadata": {},
   "source": [
    "# SVC"
   ]
  },
  {
   "cell_type": "code",
   "execution_count": null,
   "id": "542c7edd",
   "metadata": {
    "scrolled": true
   },
   "outputs": [],
   "source": [
    "#Support Vector Classifier \n",
    "from sklearn.svm import SVC\n",
    "from sklearn.preprocessing import MinMaxScaler\n",
    "\n",
    "SVCclassifier = SVC(kernel='rbf', max_iter=1000,class_weight='balanced')\n",
    "SVCclassifier.fit(X_train, y_train)\n",
    "\n",
    "\n",
    "y_pred = SVCclassifier.predict(X_test)\n",
    "\n",
    "print(classification_report(y_test, y_pred))\n",
    "print(confusion_matrix(y_test, y_pred))\n",
    "\n",
    "from sklearn.metrics import accuracy_score\n",
    "SVCAcc = accuracy_score(y_pred,y_test)"
   ]
  },
  {
   "cell_type": "code",
   "execution_count": null,
   "id": "2f2ce6f9",
   "metadata": {
    "scrolled": true
   },
   "outputs": [],
   "source": [
    "from sklearn.metrics import accuracy_score\n",
    "SVCAcc = accuracy_score(y_pred,y_test)"
   ]
  },
  {
   "cell_type": "code",
   "execution_count": null,
   "id": "103b54f8",
   "metadata": {
    "scrolled": true
   },
   "outputs": [],
   "source": [
    "SVCAcc"
   ]
  },
  {
   "cell_type": "markdown",
   "id": "59780e5e",
   "metadata": {},
   "source": [
    "# RandomForestClassifier"
   ]
  },
  {
   "cell_type": "code",
   "execution_count": null,
   "id": "106a30e7",
   "metadata": {
    "scrolled": true
   },
   "outputs": [],
   "source": [
    "from sklearn.ensemble import RandomForestClassifier\n",
    "from sklearn.metrics import classification_report, confusion_matrix, accuracy_score\n",
    "\n",
    "# Create a Random Forest classifier\n",
    "RFclassifier = RandomForestClassifier(n_estimators=100)\n",
    "\n",
    "# Fit the classifier to the training data\n",
    "RFclassifier.fit(X_train, y_train)\n",
    "\n",
    "# Make predictions on the test data\n",
    "y_pred = RFclassifier.predict(X_test)\n",
    "\n",
    "# Print classification report and confusion matrix\n",
    "print(classification_report(y_test, y_pred))\n",
    "print(confusion_matrix(y_test, y_pred))\n",
    "\n",
    "# Calculate accuracy\n",
    "RFacc = accuracy_score(y_pred, y_test)"
   ]
  },
  {
   "cell_type": "code",
   "execution_count": null,
   "id": "5e866747",
   "metadata": {},
   "outputs": [],
   "source": [
    "RFacc"
   ]
  },
  {
   "cell_type": "code",
   "execution_count": null,
   "id": "ee36dc30",
   "metadata": {
    "scrolled": false
   },
   "outputs": [],
   "source": [
    "#Calculating Confusion Matrix\n",
    "CM = confusion_matrix(y_test, y_predict)\n",
    "print('Confusion Matrix is : \\n', CM)\n",
    "\n",
    "# drawing confusion matrix\n",
    "sns.heatmap(CM, center = True,cmap='coolwarm')\n",
    "plt.show()"
   ]
  },
  {
   "cell_type": "markdown",
   "id": "c9dba07c",
   "metadata": {},
   "source": [
    "# XGboost"
   ]
  },
  {
   "cell_type": "code",
   "execution_count": null,
   "id": "0a264d95",
   "metadata": {},
   "outputs": [],
   "source": [
    "from xgboost import XGBClassifier\n",
    "from sklearn.metrics import classification_report, confusion_matrix, accuracy_score\n",
    "\n",
    "# Create an XGBoost classifier\n",
    "XGBclassifier = XGBClassifier()\n",
    "\n",
    "# Fit the classifier to the training data\n",
    "XGBclassifier.fit(X_train, y_train)\n",
    "\n",
    "# Make predictions on the test data\n",
    "y_pred = XGBclassifier.predict(X_test)\n",
    "\n",
    "# Print classification report and confusion matrix\n",
    "print(classification_report(y_test, y_pred))\n",
    "print(confusion_matrix(y_test, y_pred))\n",
    "\n",
    "# Calculate accuracy\n",
    "XGBacc = accuracy_score(y_pred, y_test)"
   ]
  },
  {
   "cell_type": "code",
   "execution_count": null,
   "id": "545eea62",
   "metadata": {},
   "outputs": [],
   "source": [
    "XGBacc"
   ]
  },
  {
   "cell_type": "code",
   "execution_count": null,
   "id": "790d7639",
   "metadata": {
    "scrolled": false
   },
   "outputs": [],
   "source": [
    "#Calculating Confusion Matrix\n",
    "CM = confusion_matrix(y_test, y_predict)\n",
    "print('Confusion Matrix is : \\n', CM)\n",
    "\n",
    "# drawing confusion matrix\n",
    "sns.heatmap(CM, center = True,cmap='coolwarm')\n",
    "plt.show()"
   ]
  },
  {
   "cell_type": "markdown",
   "id": "9a56574d",
   "metadata": {},
   "source": [
    "# Adjusted xgboost"
   ]
  },
  {
   "cell_type": "code",
   "execution_count": null,
   "id": "b67b457f",
   "metadata": {},
   "outputs": [],
   "source": [
    "from xgboost import XGBClassifier\n",
    "from sklearn.model_selection import GridSearchCV\n",
    "from sklearn.metrics import classification_report, confusion_matrix, accuracy_score\n",
    "\n",
    "\n",
    "XGBclassifier = XGBClassifier()\n",
    "\n",
    "# Define the parameter grid to search\n",
    "param_grid = {\n",
    "    'n_estimators': [100, 200, 300],  # Number of trees\n",
    "    'max_depth': [3, 4, 5],  # Maximum depth of each tree\n",
    "    'learning_rate': [0.1, 0.01, 0.001]  # Learning rate\n",
    "}\n",
    "\n",
    "# Perform grid search with cross-validation\n",
    "grid_search = GridSearchCV(estimator=XGBclassifier, param_grid=param_grid, cv=5)\n",
    "grid_search.fit(X_train, y_train)\n",
    "\n",
    "# Get the best parameters and best score\n",
    "best_params = grid_search.best_params_\n",
    "best_score = grid_search.best_score_\n",
    "\n",
    "# Create a new XGBoost classifier with the best parameters\n",
    "XGBclassifier_best = XGBClassifier(**best_params)\n",
    "\n",
    "# Fit the classifier to the training data\n",
    "XGBclassifier_best.fit(X_train, y_train)\n",
    "\n",
    "# Make predictions on the test data\n",
    "y_pred = XGBclassifier_best.predict(X_test)\n",
    "\n",
    "# Print classification report and confusion matrix\n",
    "print(classification_report(y_test, y_pred))\n",
    "print(confusion_matrix(y_test, y_pred))\n",
    "\n",
    "# Calculate accuracy\n",
    "accuracy = accuracy_score(y_test, y_pred)\n",
    "accuracy "
   ]
  },
  {
   "cell_type": "code",
   "execution_count": null,
   "id": "2036fe8f",
   "metadata": {
    "scrolled": true
   },
   "outputs": [],
   "source": [
    "accuracy"
   ]
  },
  {
   "cell_type": "markdown",
   "id": "5c915ef8",
   "metadata": {},
   "source": [
    "# Clustering"
   ]
  },
  {
   "cell_type": "code",
   "execution_count": 52,
   "id": "e4b93a00",
   "metadata": {},
   "outputs": [],
   "source": [
    "# import KMeans\n",
    "from sklearn.cluster import KMeans"
   ]
  },
  {
   "cell_type": "code",
   "execution_count": 59,
   "id": "efb1cb8a",
   "metadata": {},
   "outputs": [],
   "source": [
    "loans['totalincome'] = loans.applicantincome + loans.coapplicantincome\n",
    "# Select the features for clustering\n",
    "features = [ 'married', 'education','loanamount', 'loan_amount_term',\n",
    "            'credit_history', 'loan_status','totalincome']"
   ]
  },
  {
   "cell_type": "code",
   "execution_count": 60,
   "id": "72088a67",
   "metadata": {},
   "outputs": [],
   "source": [
    "# Extract the selected features from the DataFrame\n",
    "X_cluster = loans[features]"
   ]
  },
  {
   "cell_type": "code",
   "execution_count": 61,
   "id": "361d8102",
   "metadata": {},
   "outputs": [
    {
     "name": "stderr",
     "output_type": "stream",
     "text": [
      "C:\\Users\\Moga\\anaconda3\\envs\\loan\\Lib\\site-packages\\sklearn\\cluster\\_kmeans.py:870: FutureWarning: The default value of `n_init` will change from 10 to 'auto' in 1.4. Set the value of `n_init` explicitly to suppress the warning\n",
      "  warnings.warn(\n",
      "C:\\Users\\Moga\\anaconda3\\envs\\loan\\Lib\\site-packages\\sklearn\\cluster\\_kmeans.py:870: FutureWarning: The default value of `n_init` will change from 10 to 'auto' in 1.4. Set the value of `n_init` explicitly to suppress the warning\n",
      "  warnings.warn(\n",
      "C:\\Users\\Moga\\anaconda3\\envs\\loan\\Lib\\site-packages\\sklearn\\cluster\\_kmeans.py:870: FutureWarning: The default value of `n_init` will change from 10 to 'auto' in 1.4. Set the value of `n_init` explicitly to suppress the warning\n",
      "  warnings.warn(\n",
      "C:\\Users\\Moga\\anaconda3\\envs\\loan\\Lib\\site-packages\\sklearn\\cluster\\_kmeans.py:870: FutureWarning: The default value of `n_init` will change from 10 to 'auto' in 1.4. Set the value of `n_init` explicitly to suppress the warning\n",
      "  warnings.warn(\n",
      "C:\\Users\\Moga\\anaconda3\\envs\\loan\\Lib\\site-packages\\sklearn\\cluster\\_kmeans.py:870: FutureWarning: The default value of `n_init` will change from 10 to 'auto' in 1.4. Set the value of `n_init` explicitly to suppress the warning\n",
      "  warnings.warn(\n",
      "C:\\Users\\Moga\\anaconda3\\envs\\loan\\Lib\\site-packages\\sklearn\\cluster\\_kmeans.py:870: FutureWarning: The default value of `n_init` will change from 10 to 'auto' in 1.4. Set the value of `n_init` explicitly to suppress the warning\n",
      "  warnings.warn(\n",
      "C:\\Users\\Moga\\anaconda3\\envs\\loan\\Lib\\site-packages\\sklearn\\cluster\\_kmeans.py:870: FutureWarning: The default value of `n_init` will change from 10 to 'auto' in 1.4. Set the value of `n_init` explicitly to suppress the warning\n",
      "  warnings.warn(\n",
      "C:\\Users\\Moga\\anaconda3\\envs\\loan\\Lib\\site-packages\\sklearn\\cluster\\_kmeans.py:870: FutureWarning: The default value of `n_init` will change from 10 to 'auto' in 1.4. Set the value of `n_init` explicitly to suppress the warning\n",
      "  warnings.warn(\n",
      "C:\\Users\\Moga\\anaconda3\\envs\\loan\\Lib\\site-packages\\sklearn\\cluster\\_kmeans.py:870: FutureWarning: The default value of `n_init` will change from 10 to 'auto' in 1.4. Set the value of `n_init` explicitly to suppress the warning\n",
      "  warnings.warn(\n",
      "C:\\Users\\Moga\\anaconda3\\envs\\loan\\Lib\\site-packages\\sklearn\\cluster\\_kmeans.py:870: FutureWarning: The default value of `n_init` will change from 10 to 'auto' in 1.4. Set the value of `n_init` explicitly to suppress the warning\n",
      "  warnings.warn(\n"
     ]
    },
    {
     "data": {
      "image/png": "[encoded data removed]",
      "text/plain": [
       "<Figure size 640x480 with 1 Axes>"
      ]
     },
     "metadata": {},
     "output_type": "display_data"
    }
   ],
   "source": [
    "# Use the Elbow method to find the optimal number of clusters\n",
    "inertia = []\n",
    "for k in range(1, 11):\n",
    "    kmeans = KMeans(n_clusters=k, random_state=42)\n",
    "    kmeans.fit(X_cluster)\n",
    "    inertia.append(kmeans.inertia_)\n",
    "\n",
    "# Plot the Elbow curve\n",
    "import matplotlib.pyplot as plt\n",
    "plt.plot(range(1, 11), inertia, marker='o')\n",
    "plt.xlabel('Number of Clusters (k)')\n",
    "plt.ylabel('Within-Cluster Sum of Squares (Inertia)')\n",
    "plt.title('Elbow Curve')\n",
    "plt.show()"
   ]
  },
  {
   "cell_type": "code",
   "execution_count": 62,
   "id": "c08cbebe",
   "metadata": {},
   "outputs": [
    {
     "name": "stderr",
     "output_type": "stream",
     "text": [
      "C:\\Users\\Moga\\anaconda3\\envs\\loan\\Lib\\site-packages\\sklearn\\cluster\\_kmeans.py:870: FutureWarning: The default value of `n_init` will change from 10 to 'auto' in 1.4. Set the value of `n_init` explicitly to suppress the warning\n",
      "  warnings.warn(\n"
     ]
    }
   ],
   "source": [
    "# Create a K-means clustering object\n",
    "kmeans = KMeans(n_clusters=4, random_state=42)\n",
    "\n",
    "# Fit the K-means model to the data\n",
    "kmeans.fit(X_cluster)\n",
    "\n",
    "# Get the cluster labels for each data point\n",
    "cluster_labels = kmeans.labels_"
   ]
  },
  {
   "cell_type": "code",
   "execution_count": 77,
   "id": "6b15d062",
   "metadata": {
    "scrolled": false
   },
   "outputs": [
    {
     "name": "stdout",
     "output_type": "stream",
     "text": [
      "          married  education  loanamount  loan_amount_term  credit_history  \\\n",
      "Cluster                                                                      \n",
      "0        0.526316   0.203947  141.326836           339.000        0.858553   \n",
      "1        0.750000   0.071429  219.589286           331.500        0.839286   \n",
      "2        0.250000   0.000000  195.500000           315.000        1.000000   \n",
      "3        0.792000   0.272000  135.418838           348.432        0.852000   \n",
      "\n",
      "         loan_status   totalincome  \n",
      "Cluster                             \n",
      "0           0.671053    377.091842  \n",
      "1           0.678571   5786.517857  \n",
      "2           0.250000  28906.250000  \n",
      "3           0.716000   2371.476000  \n"
     ]
    },
    {
     "data": {
      "image/png": "[encoded data removed]",
      "text/plain": [
       "<Figure size 640x480 with 1 Axes>"
      ]
     },
     "metadata": {},
     "output_type": "display_data"
    }
   ],
   "source": [
    "# Assign cluster labels to the original dataset\n",
    "loans['Cluster'] = cluster_labels\n",
    "\n",
    "# Perform further analysis or visualization based on the clusters\n",
    "# Example: Calculate cluster statistics\n",
    "cluster_stats = loans.groupby('Cluster')[features].mean()\n",
    "print(cluster_stats)\n",
    "\n",
    "# Example: Visualize the clusters\n",
    "sns.barplot(y=loans['loanamount'], x=(loans['credit_history']  ),data=loans, hue=loans['Cluster'])\n",
    "# plt.xlabel('loanamount')\n",
    "# plt.ylabel('loan_sta')\n",
    "# plt.title('Clustering Results')\n",
    "plt.show()"
   ]
  },
  {
   "cell_type": "code",
   "execution_count": null,
   "id": "20bc48c7",
   "metadata": {},
   "outputs": [],
   "source": []
  },
  {
   "cell_type": "code",
   "execution_count": null,
   "id": "e38669a3",
   "metadata": {},
   "outputs": [],
   "source": []
  },
  {
   "cell_type": "code",
   "execution_count": null,
   "id": "52b61095",
   "metadata": {},
   "outputs": [],
   "source": []
  }
 ],
 "metadata": {
  "kernelspec": {
   "display_name": "Python 3 (ipykernel)",
   "language": "python",
   "name": "python3"
  },
  "language_info": {
   "codemirror_mode": {
    "name": "ipython",
    "version": 3
   },
   "file_extension": ".py",
   "mimetype": "text/x-python",
   "name": "python",
   "nbconvert_exporter": "python",
   "pygments_lexer": "ipython3",
   "version": "3.11.4"
  }
 },
 "nbformat": 4,
 "nbformat_minor": 5
}
